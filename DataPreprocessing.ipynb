{
  "nbformat": 4,
  "nbformat_minor": 0,
  "metadata": {
    "colab": {
      "provenance": [],
      "machine_shape": "hm"
    },
    "kernelspec": {
      "name": "python3",
      "display_name": "Python 3"
    },
    "language_info": {
      "name": "python"
    },
    "accelerator": "GPU",
    "gpuClass": "premium"
  },
  "cells": [
    {
      "cell_type": "code",
      "source": [
        "#@title Drive mounting\n",
        "from google.colab import drive\n",
        "drive.mount('/content/drive')"
      ],
      "metadata": {
        "colab": {
          "base_uri": "https://localhost:8080/"
        },
        "id": "LhYGnt0UCpC1",
        "outputId": "b0cd21b1-7810-45a6-8ceb-e2be536dc064"
      },
      "execution_count": null,
      "outputs": [
        {
          "output_type": "stream",
          "name": "stdout",
          "text": [
            "Mounted at /content/drive\n"
          ]
        }
      ]
    },
    {
      "cell_type": "code",
      "source": [
        "#@title tar file\n",
        "\n",
        "!tar -zxvf /2022_AICP_edges+nodes_compilations.tar.gz -C /AICP2022/ 2> /dev/null"
      ],
      "metadata": {
        "id": "KhV9PpG1Cu41"
      },
      "execution_count": null,
      "outputs": []
    },
    {
      "cell_type": "code",
      "source": [
        "import pandas as pd\n",
        "import numpy as np\n",
        "import glob"
      ],
      "metadata": {
        "id": "XFxdNNyBEA4l"
      },
      "execution_count": null,
      "outputs": []
    },
    {
      "cell_type": "code",
      "source": [
        "#우리가 만들 것\n",
        "mol_id = np.array([], dtype='<U10')\n",
        "num_atoms = np.array([], dtype=int)\n",
        "num_bonds = np.array([], dtype=int)\n",
        "x = []\n",
        "one_hot = []\n",
        "atomic_numbers = []\n",
        "edge = []\n",
        "mu = np.array([])\n",
        "smiles = np.array([])"
      ],
      "metadata": {
        "id": "J3B_a5vVM2v1"
      },
      "execution_count": null,
      "outputs": []
    },
    {
      "cell_type": "code",
      "source": [
        "atoms = {'H':1, 'C':6, 'O':8, 'N':7, 'S':16, 'P':15, 'F':9}"
      ],
      "metadata": {
        "id": "5EcMOwImTbaj"
      },
      "execution_count": null,
      "outputs": []
    },
    {
      "cell_type": "code",
      "source": [
        "one_hots = {'H':[True, False, False, False, False, False, False], \n",
        "            'C':[False, True, False, False, False, False, False], \n",
        "            'O':[False, False, True, False, False, False, False], \n",
        "            'N':[False, False, False, True, False, False, False], \n",
        "            'S':[False, False, False, False, True, False, False],\n",
        "            'P':[False, False, False, False, False, True, False],\n",
        "            'F':[False, False, False, False, False, False, True]}"
      ],
      "metadata": {
        "id": "pke0-Piukb5W"
      },
      "execution_count": null,
      "outputs": []
    },
    {
      "cell_type": "code",
      "source": [
        "file_pull_1 = pd.read_csv('/max_pulling_force.csv',\n",
        "                        header=None)\n",
        "file_pull_2 = pd.read_csv('/max_pulling_force_1000-1999.csv',\n",
        "                        header=None)\n",
        "file_pull_3 = pd.read_csv('/max_pulling_force_2000-2999.csv',\n",
        "                        header=None)"
      ],
      "metadata": {
        "id": "wgZr4RaF_p1E"
      },
      "execution_count": null,
      "outputs": []
    },
    {
      "cell_type": "code",
      "source": [
        "file_pull = pd.concat([file_pull_1, file_pull_2, file_pull_3])"
      ],
      "metadata": {
        "id": "LeeboZtC_5NG"
      },
      "execution_count": null,
      "outputs": []
    },
    {
      "cell_type": "code",
      "source": [
        "file_pull['id'] = file_pull.iloc[:,0].apply(lambda x:x[:-1])\n",
        "file_pull['force'] = file_pull.iloc[:,1].apply(lambda x:float(x))"
      ],
      "metadata": {
        "id": "2HMYg_JEjAkJ"
      },
      "execution_count": null,
      "outputs": []
    },
    {
      "cell_type": "code",
      "source": [
        "file_pull['force_norm'] = (file_pull['force']-file_pull['force'].mean())/file_pull['force'].std()"
      ],
      "metadata": {
        "id": "KaH2w6b_BhnE"
      },
      "execution_count": null,
      "outputs": []
    },
    {
      "cell_type": "code",
      "source": [
        "check = file_pull['id'].to_list()"
      ],
      "metadata": {
        "id": "2fMZUusynf1r"
      },
      "execution_count": null,
      "outputs": []
    },
    {
      "cell_type": "code",
      "source": [
        "file_pull['force_norm'].max()"
      ],
      "metadata": {
        "id": "rpumFLuG6Ymi",
        "outputId": "f385f9b6-ed9e-427a-a9a6-893452cf07af",
        "colab": {
          "base_uri": "https://localhost:8080/"
        }
      },
      "execution_count": null,
      "outputs": [
        {
          "output_type": "execute_result",
          "data": {
            "text/plain": [
              "4.544946871645891"
            ]
          },
          "metadata": {},
          "execution_count": 12
        }
      ]
    },
    {
      "cell_type": "code",
      "source": [
        "file_pull[file_pull['force_norm']==file_pull['force_norm'].max()]"
      ],
      "metadata": {
        "id": "kr18JF9_6Rbu",
        "outputId": "5b6357a9-1117-4353-d359-0b3c3ff8dfc6",
        "colab": {
          "base_uri": "https://localhost:8080/",
          "height": 81
        }
      },
      "execution_count": null,
      "outputs": [
        {
          "output_type": "execute_result",
          "data": {
            "text/plain": [
              "                0        1          id    force  force_norm\n",
              "152  UNK_5A83B4\\n  776.404  UNK_5A83B4  776.404    4.544947"
            ],
            "text/html": [
              "\n",
              "  <div id=\"df-cfdd343d-dd2c-405c-8a80-f67cdbea0ec9\">\n",
              "    <div class=\"colab-df-container\">\n",
              "      <div>\n",
              "<style scoped>\n",
              "    .dataframe tbody tr th:only-of-type {\n",
              "        vertical-align: middle;\n",
              "    }\n",
              "\n",
              "    .dataframe tbody tr th {\n",
              "        vertical-align: top;\n",
              "    }\n",
              "\n",
              "    .dataframe thead th {\n",
              "        text-align: right;\n",
              "    }\n",
              "</style>\n",
              "<table border=\"1\" class=\"dataframe\">\n",
              "  <thead>\n",
              "    <tr style=\"text-align: right;\">\n",
              "      <th></th>\n",
              "      <th>0</th>\n",
              "      <th>1</th>\n",
              "      <th>id</th>\n",
              "      <th>force</th>\n",
              "      <th>force_norm</th>\n",
              "    </tr>\n",
              "  </thead>\n",
              "  <tbody>\n",
              "    <tr>\n",
              "      <th>152</th>\n",
              "      <td>UNK_5A83B4\\n</td>\n",
              "      <td>776.404</td>\n",
              "      <td>UNK_5A83B4</td>\n",
              "      <td>776.404</td>\n",
              "      <td>4.544947</td>\n",
              "    </tr>\n",
              "  </tbody>\n",
              "</table>\n",
              "</div>\n",
              "      <button class=\"colab-df-convert\" onclick=\"convertToInteractive('df-cfdd343d-dd2c-405c-8a80-f67cdbea0ec9')\"\n",
              "              title=\"Convert this dataframe to an interactive table.\"\n",
              "              style=\"display:none;\">\n",
              "        \n",
              "  <svg xmlns=\"http://www.w3.org/2000/svg\" height=\"24px\"viewBox=\"0 0 24 24\"\n",
              "       width=\"24px\">\n",
              "    <path d=\"M0 0h24v24H0V0z\" fill=\"none\"/>\n",
              "    <path d=\"M18.56 5.44l.94 2.06.94-2.06 2.06-.94-2.06-.94-.94-2.06-.94 2.06-2.06.94zm-11 1L8.5 8.5l.94-2.06 2.06-.94-2.06-.94L8.5 2.5l-.94 2.06-2.06.94zm10 10l.94 2.06.94-2.06 2.06-.94-2.06-.94-.94-2.06-.94 2.06-2.06.94z\"/><path d=\"M17.41 7.96l-1.37-1.37c-.4-.4-.92-.59-1.43-.59-.52 0-1.04.2-1.43.59L10.3 9.45l-7.72 7.72c-.78.78-.78 2.05 0 2.83L4 21.41c.39.39.9.59 1.41.59.51 0 1.02-.2 1.41-.59l7.78-7.78 2.81-2.81c.8-.78.8-2.07 0-2.86zM5.41 20L4 18.59l7.72-7.72 1.47 1.35L5.41 20z\"/>\n",
              "  </svg>\n",
              "      </button>\n",
              "      \n",
              "  <style>\n",
              "    .colab-df-container {\n",
              "      display:flex;\n",
              "      flex-wrap:wrap;\n",
              "      gap: 12px;\n",
              "    }\n",
              "\n",
              "    .colab-df-convert {\n",
              "      background-color: #E8F0FE;\n",
              "      border: none;\n",
              "      border-radius: 50%;\n",
              "      cursor: pointer;\n",
              "      display: none;\n",
              "      fill: #1967D2;\n",
              "      height: 32px;\n",
              "      padding: 0 0 0 0;\n",
              "      width: 32px;\n",
              "    }\n",
              "\n",
              "    .colab-df-convert:hover {\n",
              "      background-color: #E2EBFA;\n",
              "      box-shadow: 0px 1px 2px rgba(60, 64, 67, 0.3), 0px 1px 3px 1px rgba(60, 64, 67, 0.15);\n",
              "      fill: #174EA6;\n",
              "    }\n",
              "\n",
              "    [theme=dark] .colab-df-convert {\n",
              "      background-color: #3B4455;\n",
              "      fill: #D2E3FC;\n",
              "    }\n",
              "\n",
              "    [theme=dark] .colab-df-convert:hover {\n",
              "      background-color: #434B5C;\n",
              "      box-shadow: 0px 1px 3px 1px rgba(0, 0, 0, 0.15);\n",
              "      filter: drop-shadow(0px 1px 2px rgba(0, 0, 0, 0.3));\n",
              "      fill: #FFFFFF;\n",
              "    }\n",
              "  </style>\n",
              "\n",
              "      <script>\n",
              "        const buttonEl =\n",
              "          document.querySelector('#df-cfdd343d-dd2c-405c-8a80-f67cdbea0ec9 button.colab-df-convert');\n",
              "        buttonEl.style.display =\n",
              "          google.colab.kernel.accessAllowed ? 'block' : 'none';\n",
              "\n",
              "        async function convertToInteractive(key) {\n",
              "          const element = document.querySelector('#df-cfdd343d-dd2c-405c-8a80-f67cdbea0ec9');\n",
              "          const dataTable =\n",
              "            await google.colab.kernel.invokeFunction('convertToInteractive',\n",
              "                                                     [key], {});\n",
              "          if (!dataTable) return;\n",
              "\n",
              "          const docLinkHtml = 'Like what you see? Visit the ' +\n",
              "            '<a target=\"_blank\" href=https://colab.research.google.com/notebooks/data_table.ipynb>data table notebook</a>'\n",
              "            + ' to learn more about interactive tables.';\n",
              "          element.innerHTML = '';\n",
              "          dataTable['output_type'] = 'display_data';\n",
              "          await google.colab.output.renderOutput(dataTable, element);\n",
              "          const docLink = document.createElement('div');\n",
              "          docLink.innerHTML = docLinkHtml;\n",
              "          element.appendChild(docLink);\n",
              "        }\n",
              "      </script>\n",
              "    </div>\n",
              "  </div>\n",
              "  "
            ]
          },
          "metadata": {},
          "execution_count": 13
        }
      ]
    },
    {
      "cell_type": "markdown",
      "source": [
        "H = 1\n",
        "C = 6\n",
        "O = 8 \n",
        "N = 7\n",
        "P = 15\n",
        "S = 16\n",
        "F = 9"
      ],
      "metadata": {
        "id": "aCsrMnzwTNUp"
      }
    },
    {
      "cell_type": "code",
      "source": [
        "list(range(3000,3001))"
      ],
      "metadata": {
        "colab": {
          "base_uri": "https://localhost:8080/"
        },
        "id": "yS-bfDwMIgti",
        "outputId": "9c3fad55-3b98-4df7-8139-7f371baa7dde"
      },
      "execution_count": null,
      "outputs": [
        {
          "output_type": "execute_result",
          "data": {
            "text/plain": [
              "[3000]"
            ]
          },
          "metadata": {},
          "execution_count": 27
        }
      ]
    },
    {
      "cell_type": "code",
      "source": [
        "errors = 0\n",
        "for i in range(3000,3001):\n",
        "  \n",
        "  # get into file\n",
        "  path = '/2022_AICP_edges+nodes_compilations/'+str(i)\n",
        "\n",
        "  # mol id \n",
        "  file_id = glob.glob(path+'/*.gro')\n",
        "  a = file_id[0].split('/')[-1][:-4]\n",
        "\n",
        "  # checking error\n",
        "  if a not in check:\n",
        "    print(a,' has error')\n",
        "    errors += 1\n",
        "    pass\n",
        "\n",
        "  else:\n",
        "    mol_id = np.append(mol_id, a)\n",
        "\n",
        "    # atom info -> num_atoms atomic_numbes, x, one_hot\n",
        "    file_atom = pd.read_csv(path+'/nodes.csv', index_col=0 )\n",
        "    num_atoms = np.append(num_atoms, int(file_atom.shape[0]))\n",
        "    file_atom['atom_number']=file_atom['atom_name'].apply(lambda x:atoms[x[0]])\n",
        "\n",
        "    bb = file_atom['atom_number'].to_numpy(dtype=int)\n",
        "    b = np.append(bb, np.array((64-len(bb))*[0])).reshape(-1,1)\n",
        "    atomic_numbers.append(b)\n",
        "\n",
        "    cc = file_atom[['x_coord','y_coord','z_coord']].to_numpy()\n",
        "    c = np.append(cc,np.zeros(shape=(64-len(bb),3)), axis=0)\n",
        "    x.append(c)\n",
        "\n",
        "    file_atom['one_hot'] = file_atom['atom_name'].apply(lambda x:one_hots[x[0]])\n",
        "    jj = file_atom['one_hot'].tolist()\n",
        "    jj = np.array(jj)\n",
        "    j = np.append(jj, np.array((64-len(bb))*[True,True,True,True,True,True,True]).reshape(-1,7), axis=0)\n",
        "    one_hot.append(j)\n",
        "\n",
        "    # edge info -> num_bonds, edge\n",
        "    file_edge = pd.read_csv(path+'/edges.csv', index_col=0, header=2)[:-1]\n",
        "    num_bonds = np.append(num_bonds, int(file_edge.shape[0]))\n",
        "    file_edge['edges_1'] = file_edge.iloc[:,1].apply(lambda x:int(x.split()[0])-1)\n",
        "    file_edge['edges_2'] = file_edge.iloc[:,1].apply(lambda x:int(x.split()[1])-1)\n",
        "    file_edge['edge'] = 0\n",
        "    dd = file_edge[['edges_1', 'edges_2', 'edge']].to_numpy(dtype=int)\n",
        "    d = np.append(dd,np.zeros(shape=(67-len(dd),3)), axis=0)\n",
        "    edge.append(d)\n",
        "\n",
        "    # pulling force\n",
        "    e = file_pull[file_pull['id']==a]['force_norm']\n",
        "    mu = np.append(mu, e)\n",
        "\n",
        "    #smiles\n",
        "    file_smiles = open(path+'/smiles.txt','r')\n",
        "    f = file_smiles.read()\n",
        "    smiles = np.append(smiles, f)\n",
        "  print(i)"
      ],
      "metadata": {
        "colab": {
          "base_uri": "https://localhost:8080/"
        },
        "id": "UMGP4-BoM6Fu",
        "outputId": "9abd3912-0072-4ff4-995f-503a40ed615e"
      },
      "execution_count": null,
      "outputs": [
        {
          "output_type": "stream",
          "name": "stdout",
          "text": [
            "UNK_2D0248  has error\n",
            "3000\n"
          ]
        }
      ]
    },
    {
      "cell_type": "code",
      "source": [
        "max(num_atoms)"
      ],
      "metadata": {
        "colab": {
          "base_uri": "https://localhost:8080/"
        },
        "id": "Ioiu9Ct_DvmD",
        "outputId": "9bffe7b6-bd46-4386-cd71-9f2ce5deeaf1"
      },
      "execution_count": null,
      "outputs": [
        {
          "output_type": "execute_result",
          "data": {
            "text/plain": [
              "64"
            ]
          },
          "metadata": {},
          "execution_count": 30
        }
      ]
    },
    {
      "cell_type": "code",
      "source": [
        "# max atom\n",
        "print('max numebr of atom: ',max(num_atoms))\n",
        "# max edge\n",
        "print('max number of bond: ',max(num_bonds))"
      ],
      "metadata": {
        "colab": {
          "base_uri": "https://localhost:8080/"
        },
        "id": "StLnx6MjA198",
        "outputId": "d46fb48d-a1d7-484c-fe52-4b96aa2e5bca"
      },
      "execution_count": null,
      "outputs": [
        {
          "output_type": "stream",
          "name": "stdout",
          "text": [
            "max numebr of atom:  64\n",
            "max number of bond:  67\n"
          ]
        }
      ]
    },
    {
      "cell_type": "code",
      "source": [
        "errors"
      ],
      "metadata": {
        "colab": {
          "base_uri": "https://localhost:8080/"
        },
        "id": "G50Grvp5o5Xm",
        "outputId": "0ca29de8-dd07-446f-988d-015177d9b83a"
      },
      "execution_count": null,
      "outputs": [
        {
          "output_type": "execute_result",
          "data": {
            "text/plain": [
              "1"
            ]
          },
          "metadata": {},
          "execution_count": 32
        }
      ]
    },
    {
      "cell_type": "code",
      "source": [
        "x = np.array(x)\n",
        "atomic_numbers = np.array(atomic_numbers,dtype=int)\n",
        "edge = np.array(edge,dtype=int)\n",
        "one_hot = np.array(one_hot, dtype=bool)"
      ],
      "metadata": {
        "id": "YJ2-ZnrLulJ-"
      },
      "execution_count": null,
      "outputs": []
    },
    {
      "cell_type": "code",
      "source": [
        "# pt file\n",
        "data = {}\n",
        "\n",
        "data['mol_id']=mol_id\n",
        "data['num_atoms']=num_atoms\n",
        "data['num_bonds']=num_bonds\n",
        "data['x']=x\n",
        "data['one_hot']=one_hot\n",
        "data['atomic_numbers']=atomic_numbers\n",
        "data['edge']=edge\n",
        "data['mu']=mu\n",
        "data['smiles']=smiles"
      ],
      "metadata": {
        "id": "xcuVJYJfxzYN"
      },
      "execution_count": null,
      "outputs": []
    },
    {
      "cell_type": "code",
      "source": [
        "data['mu'].shape"
      ],
      "metadata": {
        "colab": {
          "base_uri": "https://localhost:8080/"
        },
        "id": "haPwlNGgw1tG",
        "outputId": "42546a75-5e47-4cab-fbd0-3706d5c072a7"
      },
      "execution_count": null,
      "outputs": [
        {
          "output_type": "execute_result",
          "data": {
            "text/plain": [
              "(2872,)"
            ]
          },
          "metadata": {},
          "execution_count": 35
        }
      ]
    },
    {
      "cell_type": "code",
      "source": [
        "import torch"
      ],
      "metadata": {
        "id": "pPbaXsofykGA"
      },
      "execution_count": null,
      "outputs": []
    },
    {
      "cell_type": "code",
      "source": [
        "torch.save(data, './amino_train_data.pt')"
      ],
      "metadata": {
        "id": "s_pewsF8yL6G"
      },
      "execution_count": null,
      "outputs": []
    },
    {
      "cell_type": "code",
      "source": [
        "data"
      ],
      "metadata": {
        "id": "BW0CilFjI2LA",
        "outputId": "cbaf3b42-b574-41cd-bbc3-8fb34e1016ff",
        "colab": {
          "base_uri": "https://localhost:8080/"
        }
      },
      "execution_count": null,
      "outputs": [
        {
          "output_type": "execute_result",
          "data": {
            "text/plain": [
              "{'mol_id': array(['UNK_38442F', 'UNK_EF0C2A', 'UNK_881BE7', ..., 'UNK_F666F8',\n",
              "        'UNK_E410F1', 'UNK_8CF27F'], dtype='<U10'),\n",
              " 'num_atoms': array([33, 34, 36, ..., 45, 46, 48]),\n",
              " 'num_bonds': array([32, 33, 35, ..., 44, 45, 47]),\n",
              " 'x': array([[[ 1.   ,  1.   ,  0.   ],\n",
              "         [-0.522,  1.   ,  0.   ],\n",
              "         [-0.903,  1.   ,  1.028],\n",
              "         ...,\n",
              "         [ 0.   ,  0.   ,  0.   ],\n",
              "         [ 0.   ,  0.   ,  0.   ],\n",
              "         [ 0.   ,  0.   ,  0.   ]],\n",
              " \n",
              "        [[ 1.   ,  1.   ,  0.   ],\n",
              "         [-0.522,  1.   ,  0.   ],\n",
              "         [-0.903,  1.   ,  1.027],\n",
              "         ...,\n",
              "         [ 0.   ,  0.   ,  0.   ],\n",
              "         [ 0.   ,  0.   ,  0.   ],\n",
              "         [ 0.   ,  0.   ,  0.   ]],\n",
              " \n",
              "        [[ 1.   ,  1.   ,  0.   ],\n",
              "         [-0.525,  1.   ,  0.   ],\n",
              "         [-0.884,  1.   ,  1.036],\n",
              "         ...,\n",
              "         [ 0.   ,  0.   ,  0.   ],\n",
              "         [ 0.   ,  0.   ,  0.   ],\n",
              "         [ 0.   ,  0.   ,  0.   ]],\n",
              " \n",
              "        ...,\n",
              " \n",
              "        [[ 1.   ,  1.   ,  0.   ],\n",
              "         [-0.521,  1.   ,  0.   ],\n",
              "         [-0.887,  1.   ,  1.033],\n",
              "         ...,\n",
              "         [ 0.   ,  0.   ,  0.   ],\n",
              "         [ 0.   ,  0.   ,  0.   ],\n",
              "         [ 0.   ,  0.   ,  0.   ]],\n",
              " \n",
              "        [[ 1.   ,  1.   ,  0.   ],\n",
              "         [-0.457,  1.   ,  0.   ],\n",
              "         [-0.986,  1.   ,  1.434],\n",
              "         ...,\n",
              "         [ 0.   ,  0.   ,  0.   ],\n",
              "         [ 0.   ,  0.   ,  0.   ],\n",
              "         [ 0.   ,  0.   ,  0.   ]],\n",
              " \n",
              "        [[ 1.   ,  1.   ,  0.   ],\n",
              "         [-0.457,  1.   ,  0.   ],\n",
              "         [-1.004,  1.   ,  1.431],\n",
              "         ...,\n",
              "         [ 0.   ,  0.   ,  0.   ],\n",
              "         [ 0.   ,  0.   ,  0.   ],\n",
              "         [ 0.   ,  0.   ,  0.   ]]]),\n",
              " 'one_hot': array([[[False,  True, False, ..., False, False, False],\n",
              "         [False,  True, False, ..., False, False, False],\n",
              "         [ True, False, False, ..., False, False, False],\n",
              "         ...,\n",
              "         [ True,  True,  True, ...,  True,  True,  True],\n",
              "         [ True,  True,  True, ...,  True,  True,  True],\n",
              "         [ True,  True,  True, ...,  True,  True,  True]],\n",
              " \n",
              "        [[False,  True, False, ..., False, False, False],\n",
              "         [False,  True, False, ..., False, False, False],\n",
              "         [ True, False, False, ..., False, False, False],\n",
              "         ...,\n",
              "         [ True,  True,  True, ...,  True,  True,  True],\n",
              "         [ True,  True,  True, ...,  True,  True,  True],\n",
              "         [ True,  True,  True, ...,  True,  True,  True]],\n",
              " \n",
              "        [[False,  True, False, ..., False, False, False],\n",
              "         [False,  True, False, ..., False, False, False],\n",
              "         [ True, False, False, ..., False, False, False],\n",
              "         ...,\n",
              "         [ True,  True,  True, ...,  True,  True,  True],\n",
              "         [ True,  True,  True, ...,  True,  True,  True],\n",
              "         [ True,  True,  True, ...,  True,  True,  True]],\n",
              " \n",
              "        ...,\n",
              " \n",
              "        [[False,  True, False, ..., False, False, False],\n",
              "         [False,  True, False, ..., False, False, False],\n",
              "         [ True, False, False, ..., False, False, False],\n",
              "         ...,\n",
              "         [ True,  True,  True, ...,  True,  True,  True],\n",
              "         [ True,  True,  True, ...,  True,  True,  True],\n",
              "         [ True,  True,  True, ...,  True,  True,  True]],\n",
              " \n",
              "        [[False, False, False, ..., False, False, False],\n",
              "         [False,  True, False, ..., False, False, False],\n",
              "         [False,  True, False, ..., False, False, False],\n",
              "         ...,\n",
              "         [ True,  True,  True, ...,  True,  True,  True],\n",
              "         [ True,  True,  True, ...,  True,  True,  True],\n",
              "         [ True,  True,  True, ...,  True,  True,  True]],\n",
              " \n",
              "        [[False, False, False, ..., False, False, False],\n",
              "         [False,  True, False, ..., False, False, False],\n",
              "         [False,  True, False, ..., False, False, False],\n",
              "         ...,\n",
              "         [ True,  True,  True, ...,  True,  True,  True],\n",
              "         [ True,  True,  True, ...,  True,  True,  True],\n",
              "         [ True,  True,  True, ...,  True,  True,  True]]]),\n",
              " 'atomic_numbers': array([[[6],\n",
              "         [6],\n",
              "         [1],\n",
              "         ...,\n",
              "         [0],\n",
              "         [0],\n",
              "         [0]],\n",
              " \n",
              "        [[6],\n",
              "         [6],\n",
              "         [1],\n",
              "         ...,\n",
              "         [0],\n",
              "         [0],\n",
              "         [0]],\n",
              " \n",
              "        [[6],\n",
              "         [6],\n",
              "         [1],\n",
              "         ...,\n",
              "         [0],\n",
              "         [0],\n",
              "         [0]],\n",
              " \n",
              "        ...,\n",
              " \n",
              "        [[6],\n",
              "         [6],\n",
              "         [1],\n",
              "         ...,\n",
              "         [0],\n",
              "         [0],\n",
              "         [0]],\n",
              " \n",
              "        [[7],\n",
              "         [6],\n",
              "         [6],\n",
              "         ...,\n",
              "         [0],\n",
              "         [0],\n",
              "         [0]],\n",
              " \n",
              "        [[7],\n",
              "         [6],\n",
              "         [6],\n",
              "         ...,\n",
              "         [0],\n",
              "         [0],\n",
              "         [0]]]),\n",
              " 'edge': array([[[0, 1, 0],\n",
              "         [1, 2, 0],\n",
              "         [1, 3, 0],\n",
              "         ...,\n",
              "         [0, 0, 0],\n",
              "         [0, 0, 0],\n",
              "         [0, 0, 0]],\n",
              " \n",
              "        [[0, 1, 0],\n",
              "         [1, 2, 0],\n",
              "         [1, 3, 0],\n",
              "         ...,\n",
              "         [0, 0, 0],\n",
              "         [0, 0, 0],\n",
              "         [0, 0, 0]],\n",
              " \n",
              "        [[0, 1, 0],\n",
              "         [1, 2, 0],\n",
              "         [1, 3, 0],\n",
              "         ...,\n",
              "         [0, 0, 0],\n",
              "         [0, 0, 0],\n",
              "         [0, 0, 0]],\n",
              " \n",
              "        ...,\n",
              " \n",
              "        [[0, 1, 0],\n",
              "         [1, 2, 0],\n",
              "         [1, 3, 0],\n",
              "         ...,\n",
              "         [0, 0, 0],\n",
              "         [0, 0, 0],\n",
              "         [0, 0, 0]],\n",
              " \n",
              "        [[0, 1, 0],\n",
              "         [1, 2, 0],\n",
              "         [2, 3, 0],\n",
              "         ...,\n",
              "         [0, 0, 0],\n",
              "         [0, 0, 0],\n",
              "         [0, 0, 0]],\n",
              " \n",
              "        [[0, 1, 0],\n",
              "         [1, 2, 0],\n",
              "         [2, 3, 0],\n",
              "         ...,\n",
              "         [0, 0, 0],\n",
              "         [0, 0, 0],\n",
              "         [0, 0, 0]]]),\n",
              " 'mu': array([-0.8148503 , -1.65137867,  1.0884974 , ...,  0.05837993,\n",
              "         0.30111221,  0.52714086]),\n",
              " 'smiles': array(['C[C@H](N)C(=O)N[C@@H](C)C(=O)N[C@@H](C)C(=O)O',\n",
              "        'C[C@H](N)C(=O)N[C@@H](C)C(=O)N[C@@H](CS)C(=O)O',\n",
              "        'C[C@H](N)C(=O)N[C@@H](C)C(=O)N[C@@H](CC(=O)O)C(=O)O', ...,\n",
              "        'C[C@H](NC(=O)[C@H](CCCCN)NC(=O)[C@@H](N)CS)C(=O)O',\n",
              "        'NCCCC[C@H](NC(=O)[C@@H](N)CS)C(=O)N[C@@H](CS)C(=O)O',\n",
              "        'NCCCC[C@H](NC(=O)[C@@H](N)CS)C(=O)N[C@@H](CC(=O)O)C(=O)O'],\n",
              "       dtype='<U84')}"
            ]
          },
          "metadata": {},
          "execution_count": 38
        }
      ]
    }
  ]
}