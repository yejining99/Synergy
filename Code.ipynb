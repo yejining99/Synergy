{
  "cells": [
    {
      "cell_type": "code",
      "execution_count": null,
      "metadata": {
        "colab": {
          "base_uri": "https://localhost:8080/"
        },
        "id": "F1op-CbyLuN4",
        "outputId": "e33f2e5b-5f56-455f-8d78-fa0cfdc9a50d"
      },
      "outputs": [
        {
          "name": "stdout",
          "output_type": "stream",
          "text": [
            "1.12.1+cu113\n",
            "\u001b[K     |████████████████████████████████| 8.9 MB 2.7 MB/s \n",
            "\u001b[K     |████████████████████████████████| 3.5 MB 12.4 MB/s \n",
            "\u001b[K     |████████████████████████████████| 280 kB 4.1 MB/s \n",
            "\u001b[?25h  Building wheel for torch-geometric (setup.py) ... \u001b[?25l\u001b[?25hdone\n",
            "\u001b[K     |████████████████████████████████| 1.4 MB 4.0 MB/s \n",
            "\u001b[?25h"
          ]
        }
      ],
      "source": [
        "# Install required packages.\n",
        "import os\n",
        "import torch\n",
        "os.environ['TORCH'] = torch.__version__\n",
        "print(torch.__version__)\n",
        "\n",
        "!pip install -q torch-scatter -f https://data.pyg.org/whl/torch-${TORCH}.html\n",
        "!pip install -q torch-sparse -f https://data.pyg.org/whl/torch-${TORCH}.html\n",
        "!pip install -q git+https://github.com/pyg-team/pytorch_geometric.git\n",
        "!pip install -q captum\n",
        "\n",
        "# Helper function for visualization.\n",
        "%matplotlib inline\n",
        "import matplotlib.pyplot as plt"
      ]
    },
    {
      "cell_type": "code",
      "execution_count": null,
      "metadata": {
        "colab": {
          "base_uri": "https://localhost:8080/"
        },
        "id": "Pjej-VGgm8ML",
        "outputId": "7113918c-8b56-47f3-c313-43aa3b35c6e7"
      },
      "outputs": [
        {
          "name": "stdout",
          "output_type": "stream",
          "text": [
            "Looking in indexes: https://pypi.org/simple, https://us-python.pkg.dev/colab-wheels/public/simple/\n",
            "Looking in links: https://pytorch-geometric.com/whl/torch-1.12.1+cu113.html\n",
            "Requirement already satisfied: torch-scatter in /usr/local/lib/python3.7/dist-packages (2.1.0+pt112cu113)\n",
            "Looking in indexes: https://pypi.org/simple, https://us-python.pkg.dev/colab-wheels/public/simple/\n",
            "Looking in links: https://pytorch-geometric.com/whl/torch-1.12.1+cu113.html\n",
            "Requirement already satisfied: torch-sparse in /usr/local/lib/python3.7/dist-packages (0.6.15+pt112cu113)\n",
            "Requirement already satisfied: scipy in /usr/local/lib/python3.7/dist-packages (from torch-sparse) (1.7.3)\n",
            "Requirement already satisfied: numpy<1.23.0,>=1.16.5 in /usr/local/lib/python3.7/dist-packages (from scipy->torch-sparse) (1.21.6)\n",
            "Looking in indexes: https://pypi.org/simple, https://us-python.pkg.dev/colab-wheels/public/simple/\n",
            "Looking in links: https://pytorch-geometric.com/whl/torch-1.12.1+cu113.html\n",
            "Collecting torch-cluster\n",
            "  Downloading https://data.pyg.org/whl/torch-1.12.0%2Bcu113/torch_cluster-1.6.0%2Bpt112cu113-cp37-cp37m-linux_x86_64.whl (2.5 MB)\n",
            "\u001b[K     |████████████████████████████████| 2.5 MB 13.4 MB/s \n",
            "\u001b[?25hRequirement already satisfied: scipy in /usr/local/lib/python3.7/dist-packages (from torch-cluster) (1.7.3)\n",
            "Requirement already satisfied: numpy<1.23.0,>=1.16.5 in /usr/local/lib/python3.7/dist-packages (from scipy->torch-cluster) (1.21.6)\n",
            "Installing collected packages: torch-cluster\n",
            "Successfully installed torch-cluster-1.6.0+pt112cu113\n",
            "Looking in indexes: https://pypi.org/simple, https://us-python.pkg.dev/colab-wheels/public/simple/\n",
            "Looking in links: https://pytorch-geometric.com/whl/torch-1.12.1+cu113.html\n",
            "Collecting torch-spline-conv\n",
            "  Downloading https://data.pyg.org/whl/torch-1.12.0%2Bcu113/torch_spline_conv-1.2.1%2Bpt112cu113-cp37-cp37m-linux_x86_64.whl (722 kB)\n",
            "\u001b[K     |████████████████████████████████| 722 kB 3.0 MB/s \n",
            "\u001b[?25hInstalling collected packages: torch-spline-conv\n",
            "Successfully installed torch-spline-conv-1.2.1+pt112cu113\n",
            "Looking in indexes: https://pypi.org/simple, https://us-python.pkg.dev/colab-wheels/public/simple/\n",
            "Requirement already satisfied: torch-geometric in /usr/local/lib/python3.7/dist-packages (2.1.0)\n",
            "Requirement already satisfied: pyparsing in /usr/local/lib/python3.7/dist-packages (from torch-geometric) (3.0.9)\n",
            "Requirement already satisfied: scikit-learn in /usr/local/lib/python3.7/dist-packages (from torch-geometric) (1.0.2)\n",
            "Requirement already satisfied: jinja2 in /usr/local/lib/python3.7/dist-packages (from torch-geometric) (2.11.3)\n",
            "Requirement already satisfied: scipy in /usr/local/lib/python3.7/dist-packages (from torch-geometric) (1.7.3)\n",
            "Requirement already satisfied: requests in /usr/local/lib/python3.7/dist-packages (from torch-geometric) (2.23.0)\n",
            "Requirement already satisfied: tqdm in /usr/local/lib/python3.7/dist-packages (from torch-geometric) (4.64.1)\n",
            "Requirement already satisfied: psutil>=5.8.0 in /usr/local/lib/python3.7/dist-packages (from torch-geometric) (5.9.4)\n",
            "Requirement already satisfied: numpy in /usr/local/lib/python3.7/dist-packages (from torch-geometric) (1.21.6)\n",
            "Requirement already satisfied: MarkupSafe>=0.23 in /usr/local/lib/python3.7/dist-packages (from jinja2->torch-geometric) (2.0.1)\n",
            "Requirement already satisfied: idna<3,>=2.5 in /usr/local/lib/python3.7/dist-packages (from requests->torch-geometric) (2.10)\n",
            "Requirement already satisfied: chardet<4,>=3.0.2 in /usr/local/lib/python3.7/dist-packages (from requests->torch-geometric) (3.0.4)\n",
            "Requirement already satisfied: urllib3!=1.25.0,!=1.25.1,<1.26,>=1.21.1 in /usr/local/lib/python3.7/dist-packages (from requests->torch-geometric) (1.24.3)\n",
            "Requirement already satisfied: certifi>=2017.4.17 in /usr/local/lib/python3.7/dist-packages (from requests->torch-geometric) (2022.9.24)\n",
            "Requirement already satisfied: threadpoolctl>=2.0.0 in /usr/local/lib/python3.7/dist-packages (from scikit-learn->torch-geometric) (3.1.0)\n",
            "Requirement already satisfied: joblib>=0.11 in /usr/local/lib/python3.7/dist-packages (from scikit-learn->torch-geometric) (1.2.0)\n"
          ]
        }
      ],
      "source": [
        "import torch\n",
        "\n",
        "def format_pytorch_version(version):\n",
        "  return version.split('+')[0]\n",
        "\n",
        "TORCH_version = torch.__version__\n",
        "TORCH = format_pytorch_version(TORCH_version)\n",
        "\n",
        "def format_cuda_version(version):\n",
        "  return 'cu' + version.replace('.', '')\n",
        "\n",
        "CUDA_version = torch.version.cuda\n",
        "CUDA = format_cuda_version(CUDA_version)\n",
        "\n",
        "!pip install torch-scatter     -f https://pytorch-geometric.com/whl/torch-{TORCH}+{CUDA}.html\n",
        "!pip install torch-sparse      -f https://pytorch-geometric.com/whl/torch-{TORCH}+{CUDA}.html\n",
        "!pip install torch-cluster     -f https://pytorch-geometric.com/whl/torch-{TORCH}+{CUDA}.html\n",
        "!pip install torch-spline-conv -f https://pytorch-geometric.com/whl/torch-{TORCH}+{CUDA}.html\n",
        "!pip install torch-geometric "
      ]
    },
    {
      "cell_type": "markdown",
      "metadata": {
        "id": "mJtgD2A1uJAa"
      },
      "source": [
        "## Loading the dataset\n",
        "\n",
        "We load the dataset and use 10% of the data as the test split."
      ]
    },
    {
      "cell_type": "code",
      "execution_count": null,
      "metadata": {
        "id": "-YCRcYMAdCal"
      },
      "outputs": [],
      "source": [
        "!mkdir data"
      ]
    },
    {
      "cell_type": "code",
      "execution_count": null,
      "metadata": {
        "colab": {
          "base_uri": "https://localhost:8080/",
          "height": 215
        },
        "id": "e7_tvmOncmkg",
        "outputId": "ada5f511-84f9-4f1f-8fab-8b3ae700e920"
      },
      "outputs": [
        {
          "name": "stdout",
          "output_type": "stream",
          "text": [
            "\u001b[31mERROR: pip's dependency resolver does not currently take into account all the packages that are installed. This behaviour is the source of the following dependency conflicts.\n",
            "ipython 7.9.0 requires jedi>=0.10, which is not installed.\n",
            "notebook 5.7.16 requires jinja2<=3.0.0, but you have jinja2 3.1.2 which is incompatible.\n",
            "flask 1.1.4 requires Jinja2<3.0,>=2.10.1, but you have jinja2 3.1.2 which is incompatible.\u001b[0m\n",
            "Successfully installed Jinja2-3.1.2 Pygments-2.13.0 autopep8-2.0.0 dgl-cu113-0.9.1.post1 dglgo-0.0.2 isort-5.10.1 littleutils-0.2.2 numpydoc-1.5.0 ogb-1.3.5 outdated-0.2.2 pycodestyle-2.10.0 rdkit-pypi-2022.9.2 ruamel.yaml-0.17.21 ruamel.yaml.clib-0.2.7 sphinx-5.3.0 sphinxcontrib-applehelp-1.0.2 sphinxcontrib-devhelp-1.0.2 sphinxcontrib-htmlhelp-2.0.0 sphinxcontrib-jsmath-1.0.1 sphinxcontrib-qthelp-1.0.3\n"
          ]
        },
        {
          "data": {
            "application/vnd.colab-display-data+json": {
              "pip_warning": {
                "packages": [
                  "pygments",
                  "sphinxcontrib"
                ]
              }
            }
          },
          "metadata": {},
          "output_type": "display_data"
        }
      ],
      "source": [
        "!pip install dgl-cu113 dglgo -f https://data.dgl.ai/wheels/repo.html"
      ]
    },
    {
      "cell_type": "code",
      "execution_count": null,
      "metadata": {
        "colab": {
          "base_uri": "https://localhost:8080/"
        },
        "id": "zHwhTSJbchaC",
        "outputId": "b01dcd43-dcd8-48f0-8633-9158e4704036"
      },
      "outputs": [
        {
          "name": "stderr",
          "output_type": "stream",
          "text": [
            "DGL backend not selected or invalid.  Assuming PyTorch for now.\n"
          ]
        },
        {
          "name": "stdout",
          "output_type": "stream",
          "text": [
            "Setting the default backend to \"pytorch\". You can change it in the ~/.dgl/config.json file or export the DGLBACKEND environment variable.  Valid options are: pytorch, mxnet, tensorflow (all lowercase)\n"
          ]
        }
      ],
      "source": [
        "import dgl"
      ]
    },
    {
      "cell_type": "code",
      "execution_count": null,
      "metadata": {
        "id": "Ccmg6hrTcYrM"
      },
      "outputs": [],
      "source": [
        "from torch_geometric.loader import DataLoader\n",
        "import torch\n",
        "from torch_geometric.data import Data\n",
        "from dataset import get_amino_loader"
      ]
    },
    {
      "cell_type": "code",
      "execution_count": null,
      "metadata": {
        "colab": {
          "base_uri": "https://localhost:8080/"
        },
        "id": "5_vKC4Dfbtmh",
        "outputId": "f8af6719-a56c-4e95-d2eb-509bd44c3883"
      },
      "outputs": [
        {
          "name": "stdout",
          "output_type": "stream",
          "text": [
            "this is train dataset\n",
            "Start train data processing....\n",
            "Processing is finished!! amino train_loader init.\n"
          ]
        }
      ],
      "source": [
        "import random\n",
        "dataset = get_amino_loader(split='train')\n",
        "test_dataset = dataset[:len(dataset) // 10]\n",
        "train_dataset = dataset[len(dataset) // 10:]\n",
        "\n",
        "test_loader = DataLoader(test_dataset, batch_size=1000)\n",
        "train_loader = DataLoader(train_dataset, batch_size=64)\n",
        "total_loader = DataLoader(dataset, batch_size=3000)"
      ]
    },
    {
      "cell_type": "code",
      "execution_count": null,
      "metadata": {
        "id": "fzTLUiph4gxn"
      },
      "outputs": [],
      "source": [
        "best_dataset = dataset[0]\n",
        "best = 0.020848649\n",
        "for i in dataset:\n",
        "  a = i.y.item()\n",
        "\n",
        "  if best == a:\n",
        "    best = a\n",
        "    best_dataset = i"
      ]
    },
    {
      "cell_type": "markdown",
      "metadata": {
        "id": "g35SSQ3oukNM"
      },
      "source": [
        "## Visualizing the data\n",
        "\n",
        "We define some utility functions for visualizing the molecules and draw a random molecule."
      ]
    },
    {
      "cell_type": "code",
      "execution_count": null,
      "metadata": {
        "id": "9Hh3YNASuYxm"
      },
      "outputs": [],
      "source": [
        "import networkx as nx\n",
        "import numpy as np\n",
        "\n",
        "from torch_geometric.utils import to_networkx\n",
        "\n",
        "\n",
        "def draw_molecule(g, edge_mask=None, draw_edge_labels=False, title='molecule'):\n",
        "    g = g.copy().to_undirected()\n",
        "    node_labels = {}\n",
        "    for u, data in g.nodes(data=True):\n",
        "        node_labels[u] = data['name']\n",
        "    pos = nx.planar_layout(g)\n",
        "    pos = nx.spring_layout(g, pos=pos)\n",
        "    if edge_mask is None:\n",
        "        edge_color = 'black'\n",
        "        widths = None\n",
        "    else:\n",
        "        edge_color = [edge_mask[(u, v)] for u, v in g.edges()]\n",
        "        widths = [x * 10 for x in edge_color]\n",
        "    nx.draw(g, pos=pos, labels=node_labels, width=widths,\n",
        "            edge_color=edge_color, edge_cmap=plt.cm.Blues,\n",
        "            node_color='azure')\n",
        "    \n",
        "    if draw_edge_labels and edge_mask is not None:\n",
        "        edge_labels = {k: ('%.2f' % v) for k, v in edge_mask.items()}    \n",
        "        nx.draw_networkx_edge_labels(g, pos, edge_labels=edge_labels,\n",
        "                                    font_color='red')\n",
        "    plt.savefig(title+'.png', dpi=300)\n",
        "    plt.show()\n",
        "\n",
        "\n",
        "def to_molecule(data):\n",
        "    ATOM_MAP = ['H','C','O','N','S','P','F']\n",
        "    g = to_networkx(data, node_attrs=['x'])\n",
        "    for u, data in g.nodes(data=True):\n",
        "        data['name'] = ATOM_MAP[data['x'].index(1.0)]\n",
        "        del data['x']\n",
        "    return g\n"
      ]
    },
    {
      "cell_type": "markdown",
      "metadata": {
        "id": "cJ3JuTH1vV1V"
      },
      "source": [
        "## Sample visualization\n",
        "\n",
        "We sample a single molecule from train_dataset and visualize it"
      ]
    },
    {
      "cell_type": "code",
      "execution_count": null,
      "metadata": {
        "colab": {
          "base_uri": "https://localhost:8080/",
          "height": 391
        },
        "id": "4Z2uE7zVuhXU",
        "outputId": "e256c513-d756-4d38-a6a0-d299e4adc5fc"
      },
      "outputs": [
        {
          "data": {
            "image/png": "[encoded data removed]",
            "text/plain": [
              "<Figure size 720x360 with 1 Axes>"
            ]
          },
          "metadata": {},
          "output_type": "display_data"
        }
      ],
      "source": [
        "import random\n",
        "import matplotlib.pyplot as plt\n",
        "\n",
        "\n",
        "data = best_dataset #random.choice([t for t in train_dataset])\n",
        "mol = to_molecule(data)\n",
        "plt.figure(figsize=(10, 5))\n",
        "draw_molecule(mol, title = 'best_molecular')"
      ]
    },
    {
      "cell_type": "markdown",
      "metadata": {
        "id": "6kZo9g1hwCGG"
      },
      "source": [
        "## Training the model\n",
        "\n",
        "In the next section, we train a GNN model with 5 convolution layers. We use GraphConv which supports `edge_weight` as a parameter. Many convolution layers in Pytorch Geometric supoort this argument."
      ]
    },
    {
      "cell_type": "markdown",
      "metadata": {
        "id": "vKiOYBL-xwcN"
      },
      "source": [
        "## HOGNN"
      ]
    },
    {
      "cell_type": "markdown",
      "metadata": {
        "id": "GBVIOfMCCHAb"
      },
      "source": [
        "### Define the model"
      ]
    },
    {
      "cell_type": "code",
      "execution_count": null,
      "metadata": {
        "id": "iI1qpFUhrA2p"
      },
      "outputs": [],
      "source": [
        "import torch\n",
        "from torch.nn import Linear\n",
        "import torch.nn.functional as F\n",
        "\n",
        "from torch_geometric.nn import GraphConv, global_max_pool, global_add_pool\n",
        "from torch_geometric.nn.dense.dense_gcn_conv import DenseGCNConv\n",
        "\n",
        "# 기본 gnn 모델\n",
        "class Net(torch.nn.Module):\n",
        "    def __init__(self, dim):\n",
        "        super(Net, self).__init__()\n",
        "\n",
        "        num_features = 7 #dataset.num_features\n",
        "        self.dim = dim\n",
        " \n",
        "        self.conv1 = GraphConv(num_features, dim)\n",
        "        self.conv2 = GraphConv(dim, dim)\n",
        "        self.conv3 = GraphConv(dim, dim)\n",
        "\n",
        "        self.lin1 = Linear(dim, dim)\n",
        "        self.lin2 = Linear(dim, 1)\n",
        "\n",
        "    def forward(self,x,pos,z, edge_index, batch, edge_weight=None):\n",
        "        \n",
        "        x = self.conv1(x, edge_index, edge_weight).relu()\n",
        "        x = F.dropout(x, p=0.05, training=self.training)\n",
        "        x = self.conv2(x, edge_index, edge_weight).relu()\n",
        "        x = F.dropout(x, p=0.05, training=self.training)\n",
        "        x = self.conv3(x, edge_index, edge_weight).relu()\n",
        "\n",
        "        x = global_add_pool(x, batch)\n",
        "        x = self.lin1(x)\n",
        "        x = self.lin2(x)\n",
        "        return x\n",
        "\n",
        "class Feature_Net(torch.nn.Module):\n",
        "    def __init__(self, dim):\n",
        "        super(Feature_Net, self).__init__()\n",
        "\n",
        "        num_features =10 #dataset.num_features\n",
        "        self.dim = dim\n",
        " \n",
        "        self.conv1 = GraphConv(num_features, dim)\n",
        "        self.conv2 = GraphConv(dim, dim)\n",
        "        self.conv3 = GraphConv(dim, dim)\n",
        "        self.conv4 = GraphConv(dim, dim)\n",
        "        self.conv5 = GraphConv(dim, dim)\n",
        "\n",
        "        self.lin1 = Linear(dim, dim)\n",
        "        self.lin2 = Linear(dim, 1)\n",
        "\n",
        "    def forward(self,x,pos,z, edge_index, batch, edge_weight=None):\n",
        "        x = torch.cat([x,pos],dim=1).to(device, dtype=torch.float32)\n",
        "        x = self.conv1(x, edge_index, edge_weight).relu()\n",
        "        x = F.dropout(x, p=0.05, training=self.training)\n",
        "        x = self.conv2(x, edge_index, edge_weight).relu()\n",
        "        x = F.dropout(x, p=0.05, training=self.training)\n",
        "        x = self.conv3(x, edge_index, edge_weight).relu()\n",
        "\n",
        "        x = global_add_pool(x, batch)\n",
        "        x = self.lin1(x)\n",
        "        x = self.lin2(x)\n",
        "        return x"
      ]
    },
    {
      "cell_type": "markdown",
      "metadata": {
        "id": "L3WOZ40OCKO5"
      },
      "source": [
        "### Define train and test functions"
      ]
    },
    {
      "cell_type": "code",
      "execution_count": null,
      "metadata": {
        "id": "ExNsODp3rKjN"
      },
      "outputs": [],
      "source": [
        "from sklearn.metrics import mean_absolute_error\n",
        "from sklearn.metrics import mean_squared_error \n",
        "def train(epoch):\n",
        "    model.train()\n",
        "\n",
        "    loss_all = 0\n",
        "    for data in train_loader:\n",
        "        data = data.to(device)\n",
        "        optimizer.zero_grad()\n",
        "        output = model(data.x.float(),data.pos,data.z, data.edge_index, data.batch)\n",
        "        loss = F.l1_loss(output.to(device), \n",
        "                         data.y.view(-1,1).to(device))\n",
        "        loss.backward()\n",
        "        loss_all += loss.item() * data.num_graphs\n",
        "        optimizer.step()\n",
        "    return loss_all / len(train_dataset)\n",
        "\n",
        "def to_np(x):\n",
        "    return x.cpu().detach().numpy()\n",
        "\n",
        "\n",
        "def test(loader):\n",
        "    model.eval()\n",
        "    total_mae = 0\n",
        "    for i, data in enumerate(loader):\n",
        "        data = data.to(device)\n",
        "        output = model(data.x,data.pos,data.z, data.edge_index, data.batch)\n",
        "        mae = mean_absolute_error(to_np(output.flatten()), to_np(data.y))\n",
        "        total_mae += mae\n",
        "    return total_mae\n",
        "\n",
        "def final(loader):\n",
        "    model.eval()\n",
        "    predict_list = []\n",
        "    real_list = []\n",
        "    total_mae = 0\n",
        "    total_mse = 0\n",
        "\n",
        "    for data in loader:\n",
        "        data = data.to(device)\n",
        "        output = model(data.x,data.pos,data.z, data.edge_index, data.batch)\n",
        "        mae = mean_absolute_error(to_np(output.flatten()), to_np(data.y))\n",
        "        mse = mean_squared_error(to_np(output.flatten()), to_np(data.y))\n",
        "        predict_list.append(to_np(output.flatten()))\n",
        "        real_list.append(to_np(data.y))\n",
        "        total_mae += mae\n",
        "        total_mse += mse\n",
        "        \n",
        "    #total_mae = total_mae/len(data)\n",
        "    #total_mse = total_mse/len(data)\n",
        "    return total_mae, total_mse,  predict_list, real_list\n"
      ]
    },
    {
      "cell_type": "markdown",
      "metadata": {
        "id": "rsv9CQ6hCNMI"
      },
      "source": [
        "### Train the model for 100 epochs\n",
        "\n",
        "The accuracy should be around 80% in the end"
      ]
    },
    {
      "cell_type": "code",
      "execution_count": null,
      "metadata": {
        "colab": {
          "base_uri": "https://localhost:8080/"
        },
        "id": "4imSoTlMrQdN",
        "outputId": "7b175d62-860a-43d5-d3d8-9c9faa92b0d8"
      },
      "outputs": [
        {
          "name": "stdout",
          "output_type": "stream",
          "text": [
            "Epoch: 001, Loss: 1.6545, Train Acc: 31.6448, Test Acc: 0.7623\n",
            "Epoch: 002, Loss: 0.7916, Train Acc: 31.0217, Test Acc: 0.7412\n",
            "Epoch: 003, Loss: 0.7839, Train Acc: 30.8173, Test Acc: 0.7369\n",
            "Epoch: 004, Loss: 0.7828, Train Acc: 31.2225, Test Acc: 0.7540\n",
            "Epoch: 005, Loss: 0.7685, Train Acc: 30.7167, Test Acc: 0.7324\n",
            "Epoch: 006, Loss: 0.7655, Train Acc: 30.9733, Test Acc: 0.7412\n",
            "Epoch: 007, Loss: 0.7649, Train Acc: 30.7864, Test Acc: 0.7335\n",
            "Epoch: 008, Loss: 0.7646, Train Acc: 30.8674, Test Acc: 0.7366\n",
            "Epoch: 009, Loss: 0.7631, Train Acc: 30.6463, Test Acc: 0.7330\n",
            "Epoch: 010, Loss: 0.7579, Train Acc: 30.4389, Test Acc: 0.7312\n",
            "Epoch: 011, Loss: 0.7585, Train Acc: 30.7357, Test Acc: 0.7374\n",
            "Epoch: 012, Loss: 0.7603, Train Acc: 30.5288, Test Acc: 0.7282\n",
            "Epoch: 013, Loss: 0.7597, Train Acc: 30.6253, Test Acc: 0.7297\n",
            "Epoch: 014, Loss: 0.7549, Train Acc: 30.4228, Test Acc: 0.7249\n",
            "Epoch: 015, Loss: 0.7568, Train Acc: 30.6646, Test Acc: 0.7283\n",
            "Epoch: 016, Loss: 0.7544, Train Acc: 30.4495, Test Acc: 0.7231\n",
            "Epoch: 017, Loss: 0.7547, Train Acc: 30.4988, Test Acc: 0.7235\n",
            "Epoch: 018, Loss: 0.7521, Train Acc: 30.1885, Test Acc: 0.7207\n",
            "Epoch: 019, Loss: 0.7502, Train Acc: 30.1058, Test Acc: 0.7235\n",
            "Epoch: 020, Loss: 0.7475, Train Acc: 30.1187, Test Acc: 0.7225\n",
            "Epoch: 021, Loss: 0.7452, Train Acc: 29.8940, Test Acc: 0.7171\n",
            "Epoch: 022, Loss: 0.7461, Train Acc: 30.1293, Test Acc: 0.7274\n",
            "Epoch: 023, Loss: 0.7430, Train Acc: 29.9706, Test Acc: 0.7233\n",
            "Epoch: 024, Loss: 0.7417, Train Acc: 29.7714, Test Acc: 0.7180\n",
            "Epoch: 025, Loss: 0.7391, Train Acc: 29.6957, Test Acc: 0.7188\n",
            "Epoch: 026, Loss: 0.7372, Train Acc: 29.8363, Test Acc: 0.7221\n",
            "Epoch: 027, Loss: 0.7383, Train Acc: 29.6110, Test Acc: 0.7173\n",
            "Epoch: 028, Loss: 0.7345, Train Acc: 29.5973, Test Acc: 0.7173\n",
            "Epoch: 029, Loss: 0.7342, Train Acc: 29.5776, Test Acc: 0.7178\n",
            "Epoch: 030, Loss: 0.7323, Train Acc: 29.6006, Test Acc: 0.7200\n",
            "Epoch: 031, Loss: 0.7326, Train Acc: 29.4320, Test Acc: 0.7156\n",
            "Epoch: 032, Loss: 0.7268, Train Acc: 29.3928, Test Acc: 0.7157\n",
            "Epoch: 033, Loss: 0.7295, Train Acc: 29.4709, Test Acc: 0.7176\n",
            "Epoch: 034, Loss: 0.7263, Train Acc: 29.3007, Test Acc: 0.7128\n",
            "Epoch: 035, Loss: 0.7240, Train Acc: 29.1869, Test Acc: 0.7092\n",
            "Epoch: 036, Loss: 0.7207, Train Acc: 29.1076, Test Acc: 0.7050\n",
            "Epoch: 037, Loss: 0.7230, Train Acc: 29.2297, Test Acc: 0.7102\n",
            "Epoch: 038, Loss: 0.7214, Train Acc: 29.0997, Test Acc: 0.7069\n",
            "Epoch: 039, Loss: 0.7243, Train Acc: 29.0800, Test Acc: 0.7035\n",
            "Epoch: 040, Loss: 0.7223, Train Acc: 29.1378, Test Acc: 0.7058\n",
            "Epoch: 041, Loss: 0.7185, Train Acc: 29.0509, Test Acc: 0.6983\n",
            "Epoch: 042, Loss: 0.7217, Train Acc: 29.2640, Test Acc: 0.7096\n",
            "Epoch: 043, Loss: 0.7209, Train Acc: 28.9689, Test Acc: 0.6978\n",
            "Epoch: 044, Loss: 0.7186, Train Acc: 29.1200, Test Acc: 0.7043\n",
            "Epoch: 045, Loss: 0.7212, Train Acc: 29.0536, Test Acc: 0.7021\n",
            "Epoch: 046, Loss: 0.7194, Train Acc: 29.0775, Test Acc: 0.7012\n",
            "Epoch: 047, Loss: 0.7182, Train Acc: 29.0608, Test Acc: 0.7032\n",
            "Epoch: 048, Loss: 0.7185, Train Acc: 28.9567, Test Acc: 0.7019\n",
            "Epoch: 049, Loss: 0.7159, Train Acc: 28.9214, Test Acc: 0.6994\n",
            "Epoch: 050, Loss: 0.7161, Train Acc: 28.9002, Test Acc: 0.6991\n",
            "Epoch: 051, Loss: 0.7159, Train Acc: 29.0280, Test Acc: 0.7026\n",
            "Epoch: 052, Loss: 0.7177, Train Acc: 28.9751, Test Acc: 0.7034\n",
            "Epoch: 053, Loss: 0.7139, Train Acc: 28.8727, Test Acc: 0.6979\n",
            "Epoch: 054, Loss: 0.7159, Train Acc: 28.8942, Test Acc: 0.6992\n",
            "Epoch: 055, Loss: 0.7163, Train Acc: 28.8591, Test Acc: 0.6993\n",
            "Epoch: 056, Loss: 0.7133, Train Acc: 28.8481, Test Acc: 0.6980\n",
            "Epoch: 057, Loss: 0.7132, Train Acc: 28.8388, Test Acc: 0.6976\n",
            "Epoch: 058, Loss: 0.7131, Train Acc: 28.8098, Test Acc: 0.6982\n",
            "Epoch: 059, Loss: 0.7146, Train Acc: 28.7916, Test Acc: 0.6972\n",
            "Epoch: 060, Loss: 0.7129, Train Acc: 28.8316, Test Acc: 0.6973\n",
            "Epoch: 061, Loss: 0.7125, Train Acc: 28.8301, Test Acc: 0.6969\n",
            "Epoch: 062, Loss: 0.7123, Train Acc: 28.7867, Test Acc: 0.6980\n",
            "Epoch: 063, Loss: 0.7097, Train Acc: 28.7711, Test Acc: 0.6998\n",
            "Epoch: 064, Loss: 0.7110, Train Acc: 28.7819, Test Acc: 0.6982\n",
            "Epoch: 065, Loss: 0.7125, Train Acc: 28.9534, Test Acc: 0.7024\n",
            "Epoch: 066, Loss: 0.7120, Train Acc: 28.7929, Test Acc: 0.6998\n",
            "Epoch: 067, Loss: 0.7103, Train Acc: 28.7629, Test Acc: 0.7004\n",
            "Epoch: 068, Loss: 0.7082, Train Acc: 28.7707, Test Acc: 0.6977\n",
            "Epoch: 069, Loss: 0.7129, Train Acc: 28.7921, Test Acc: 0.6995\n",
            "Epoch: 070, Loss: 0.7118, Train Acc: 28.8513, Test Acc: 0.7021\n",
            "Epoch: 071, Loss: 0.7107, Train Acc: 28.7476, Test Acc: 0.6986\n",
            "Epoch: 072, Loss: 0.7111, Train Acc: 28.7990, Test Acc: 0.7004\n",
            "Epoch: 073, Loss: 0.7111, Train Acc: 28.8404, Test Acc: 0.7033\n",
            "Epoch: 074, Loss: 0.7108, Train Acc: 28.7853, Test Acc: 0.6993\n",
            "Epoch: 075, Loss: 0.7116, Train Acc: 28.7693, Test Acc: 0.6981\n",
            "Epoch: 076, Loss: 0.7102, Train Acc: 28.8323, Test Acc: 0.6987\n",
            "Epoch: 077, Loss: 0.7124, Train Acc: 28.8455, Test Acc: 0.7038\n",
            "Epoch: 078, Loss: 0.7140, Train Acc: 28.8313, Test Acc: 0.7001\n",
            "Epoch: 079, Loss: 0.7107, Train Acc: 28.8032, Test Acc: 0.7012\n",
            "Epoch: 080, Loss: 0.7103, Train Acc: 28.7806, Test Acc: 0.6998\n",
            "Epoch: 081, Loss: 0.7108, Train Acc: 28.7598, Test Acc: 0.6982\n",
            "Epoch: 082, Loss: 0.7111, Train Acc: 28.8043, Test Acc: 0.7012\n",
            "Epoch: 083, Loss: 0.7084, Train Acc: 28.7885, Test Acc: 0.7002\n",
            "Epoch: 084, Loss: 0.7082, Train Acc: 28.7972, Test Acc: 0.7030\n",
            "Epoch: 085, Loss: 0.7100, Train Acc: 28.7619, Test Acc: 0.6980\n",
            "Epoch: 086, Loss: 0.7105, Train Acc: 28.7814, Test Acc: 0.7027\n",
            "Epoch: 087, Loss: 0.7105, Train Acc: 28.7589, Test Acc: 0.7007\n",
            "Epoch: 088, Loss: 0.7100, Train Acc: 28.8078, Test Acc: 0.7012\n",
            "Epoch: 089, Loss: 0.7095, Train Acc: 28.9221, Test Acc: 0.7026\n",
            "Epoch: 090, Loss: 0.7082, Train Acc: 28.7513, Test Acc: 0.6988\n",
            "Epoch: 091, Loss: 0.7096, Train Acc: 28.7783, Test Acc: 0.7014\n",
            "Epoch: 092, Loss: 0.7103, Train Acc: 28.7468, Test Acc: 0.6993\n",
            "Epoch: 093, Loss: 0.7094, Train Acc: 28.7463, Test Acc: 0.6997\n",
            "Epoch: 094, Loss: 0.7104, Train Acc: 28.7586, Test Acc: 0.6998\n",
            "Epoch: 095, Loss: 0.7104, Train Acc: 28.9656, Test Acc: 0.7032\n",
            "Epoch: 096, Loss: 0.7119, Train Acc: 28.9137, Test Acc: 0.7002\n",
            "Epoch: 097, Loss: 0.7092, Train Acc: 28.7938, Test Acc: 0.6986\n",
            "Epoch: 098, Loss: 0.7099, Train Acc: 28.7655, Test Acc: 0.6997\n",
            "Epoch: 099, Loss: 0.7071, Train Acc: 28.7378, Test Acc: 0.6976\n",
            "Epoch: 100, Loss: 0.7084, Train Acc: 28.7841, Test Acc: 0.7000\n"
          ]
        }
      ],
      "source": [
        "device = torch.device('cuda' if torch.cuda.is_available() else 'cpu')\n",
        "model = Net(dim=64).to(device)\n",
        "optimizer = torch.optim.Adam(model.parameters(), lr=0.001)\n",
        "\n",
        "for epoch in range(1, 101):\n",
        "    loss = train(epoch)\n",
        "    train_acc = test(train_loader)\n",
        "    test_acc = test(test_loader)\n",
        "    print(f'Epoch: {epoch:03d}, Loss: {loss:.4f}, '\n",
        "          f'Train Acc: {train_acc:.4f}, Test Acc: {test_acc:.4f}')\n"
      ]
    },
    {
      "cell_type": "code",
      "execution_count": null,
      "metadata": {
        "id": "cD0z_iBgXCJo"
      },
      "outputs": [],
      "source": [
        "final_mae, final_mse, predict_list, real_list = final(total_loader)"
      ]
    },
    {
      "cell_type": "code",
      "execution_count": null,
      "metadata": {
        "colab": {
          "base_uri": "https://localhost:8080/"
        },
        "id": "i2jQkW6dXCJo",
        "outputId": "8701d8af-6b5e-4aa6-e9d4-0a5f55578bdc"
      },
      "outputs": [
        {
          "data": {
            "text/plain": [
              "0.7051023244857788"
            ]
          },
          "execution_count": 145,
          "metadata": {},
          "output_type": "execute_result"
        }
      ],
      "source": [
        "final_mae "
      ]
    },
    {
      "cell_type": "code",
      "execution_count": null,
      "metadata": {
        "colab": {
          "base_uri": "https://localhost:8080/"
        },
        "id": "BkIN3t7m8VFY",
        "outputId": "517440c8-b381-42f4-a7c3-a2af28d49f6a"
      },
      "outputs": [
        {
          "data": {
            "text/plain": [
              "0.8466269969940186"
            ]
          },
          "execution_count": 67,
          "metadata": {},
          "output_type": "execute_result"
        }
      ],
      "source": [
        "final_mse"
      ]
    },
    {
      "cell_type": "code",
      "execution_count": null,
      "metadata": {
        "colab": {
          "base_uri": "https://localhost:8080/"
        },
        "id": "LdfmMEQyW6Qe",
        "outputId": "c1ac541b-18ad-4863-ed60-47c88927c69e"
      },
      "outputs": [
        {
          "name": "stdout",
          "output_type": "stream",
          "text": [
            "Epoch: 001, Loss: 6.9903, Train Acc: 82.7062, Test Acc: 1.6556\n",
            "Epoch: 002, Loss: 1.2897, Train Acc: 38.0650, Test Acc: 0.8835\n",
            "Epoch: 003, Loss: 0.9017, Train Acc: 32.7137, Test Acc: 0.7133\n",
            "Epoch: 004, Loss: 0.8454, Train Acc: 33.6136, Test Acc: 0.8539\n",
            "Epoch: 005, Loss: 0.8459, Train Acc: 32.6901, Test Acc: 0.7914\n",
            "Epoch: 006, Loss: 0.8160, Train Acc: 32.4340, Test Acc: 0.7837\n",
            "Epoch: 007, Loss: 0.7945, Train Acc: 31.6919, Test Acc: 0.7679\n",
            "Epoch: 008, Loss: 0.7959, Train Acc: 31.7225, Test Acc: 0.7811\n",
            "Epoch: 009, Loss: 0.7842, Train Acc: 31.4458, Test Acc: 0.7525\n",
            "Epoch: 010, Loss: 0.7666, Train Acc: 31.6273, Test Acc: 0.7842\n",
            "Epoch: 011, Loss: 0.7746, Train Acc: 31.2249, Test Acc: 0.7836\n",
            "Epoch: 012, Loss: 0.7887, Train Acc: 31.0797, Test Acc: 0.7739\n",
            "Epoch: 013, Loss: 0.8108, Train Acc: 32.1641, Test Acc: 0.7377\n",
            "Epoch: 014, Loss: 0.7922, Train Acc: 31.4295, Test Acc: 0.7572\n",
            "Epoch: 015, Loss: 0.8076, Train Acc: 31.2693, Test Acc: 0.7456\n",
            "Epoch: 016, Loss: 0.7853, Train Acc: 31.6352, Test Acc: 0.7461\n",
            "Epoch: 017, Loss: 0.7782, Train Acc: 31.5351, Test Acc: 0.7436\n",
            "Epoch: 018, Loss: 0.7816, Train Acc: 31.8421, Test Acc: 0.7526\n",
            "Epoch: 019, Loss: 0.7863, Train Acc: 31.6169, Test Acc: 0.7492\n",
            "Epoch: 020, Loss: 0.7767, Train Acc: 31.2750, Test Acc: 0.7475\n",
            "Epoch: 021, Loss: 0.7707, Train Acc: 31.3110, Test Acc: 0.7462\n",
            "Epoch: 022, Loss: 0.7749, Train Acc: 31.3213, Test Acc: 0.7479\n",
            "Epoch: 023, Loss: 0.7687, Train Acc: 31.2958, Test Acc: 0.7458\n",
            "Epoch: 024, Loss: 0.7722, Train Acc: 31.3280, Test Acc: 0.7476\n",
            "Epoch: 025, Loss: 0.7700, Train Acc: 31.3637, Test Acc: 0.7458\n",
            "Epoch: 026, Loss: 0.7697, Train Acc: 31.2191, Test Acc: 0.7478\n",
            "Epoch: 027, Loss: 0.7671, Train Acc: 31.3116, Test Acc: 0.7456\n",
            "Epoch: 028, Loss: 0.7685, Train Acc: 31.1260, Test Acc: 0.7470\n",
            "Epoch: 029, Loss: 0.7646, Train Acc: 31.3818, Test Acc: 0.7500\n",
            "Epoch: 030, Loss: 0.7660, Train Acc: 31.2316, Test Acc: 0.7463\n",
            "Epoch: 031, Loss: 0.7637, Train Acc: 31.2411, Test Acc: 0.7490\n",
            "Epoch: 032, Loss: 0.7654, Train Acc: 31.0098, Test Acc: 0.7470\n",
            "Epoch: 033, Loss: 0.7646, Train Acc: 31.2043, Test Acc: 0.7411\n",
            "Epoch: 034, Loss: 0.7635, Train Acc: 30.9260, Test Acc: 0.7446\n",
            "Epoch: 035, Loss: 0.7628, Train Acc: 31.3603, Test Acc: 0.7556\n",
            "Epoch: 036, Loss: 0.7657, Train Acc: 31.1048, Test Acc: 0.7456\n",
            "Epoch: 037, Loss: 0.7703, Train Acc: 31.3016, Test Acc: 0.7481\n",
            "Epoch: 038, Loss: 0.7685, Train Acc: 31.2922, Test Acc: 0.7507\n",
            "Epoch: 039, Loss: 0.7694, Train Acc: 31.1192, Test Acc: 0.7471\n",
            "Epoch: 040, Loss: 0.7659, Train Acc: 31.0597, Test Acc: 0.7486\n",
            "Epoch: 041, Loss: 0.7602, Train Acc: 30.9997, Test Acc: 0.7399\n",
            "Epoch: 042, Loss: 0.7632, Train Acc: 31.1268, Test Acc: 0.7385\n",
            "Epoch: 043, Loss: 0.7608, Train Acc: 30.8780, Test Acc: 0.7428\n",
            "Epoch: 044, Loss: 0.7594, Train Acc: 31.1814, Test Acc: 0.7468\n",
            "Epoch: 045, Loss: 0.7646, Train Acc: 30.8246, Test Acc: 0.7417\n",
            "Epoch: 046, Loss: 0.7616, Train Acc: 31.0926, Test Acc: 0.7442\n",
            "Epoch: 047, Loss: 0.7621, Train Acc: 31.1264, Test Acc: 0.7530\n",
            "Epoch: 048, Loss: 0.7672, Train Acc: 30.8548, Test Acc: 0.7392\n",
            "Epoch: 049, Loss: 0.7593, Train Acc: 30.8675, Test Acc: 0.7393\n",
            "Epoch: 050, Loss: 0.7608, Train Acc: 31.1398, Test Acc: 0.7485\n",
            "Epoch: 051, Loss: 0.7595, Train Acc: 30.8654, Test Acc: 0.7406\n",
            "Epoch: 052, Loss: 0.7632, Train Acc: 31.0947, Test Acc: 0.7477\n",
            "Epoch: 053, Loss: 0.7614, Train Acc: 30.8804, Test Acc: 0.7402\n",
            "Epoch: 054, Loss: 0.7602, Train Acc: 30.8338, Test Acc: 0.7455\n",
            "Epoch: 055, Loss: 0.7608, Train Acc: 30.7046, Test Acc: 0.7525\n",
            "Epoch: 056, Loss: 0.7580, Train Acc: 30.7487, Test Acc: 0.7449\n",
            "Epoch: 057, Loss: 0.7545, Train Acc: 30.8788, Test Acc: 0.7486\n",
            "Epoch: 058, Loss: 0.7596, Train Acc: 30.3187, Test Acc: 0.7376\n",
            "Epoch: 059, Loss: 0.7565, Train Acc: 30.7934, Test Acc: 0.7452\n",
            "Epoch: 060, Loss: 0.7572, Train Acc: 30.7488, Test Acc: 0.7433\n",
            "Epoch: 061, Loss: 0.7541, Train Acc: 30.6811, Test Acc: 0.7474\n",
            "Epoch: 062, Loss: 0.7620, Train Acc: 30.5861, Test Acc: 0.7417\n",
            "Epoch: 063, Loss: 0.7555, Train Acc: 30.4573, Test Acc: 0.7420\n",
            "Epoch: 064, Loss: 0.7585, Train Acc: 30.2686, Test Acc: 0.7386\n",
            "Epoch: 065, Loss: 0.7509, Train Acc: 30.5863, Test Acc: 0.7471\n",
            "Epoch: 066, Loss: 0.7595, Train Acc: 30.3718, Test Acc: 0.7404\n",
            "Epoch: 067, Loss: 0.7544, Train Acc: 30.5851, Test Acc: 0.7417\n",
            "Epoch: 068, Loss: 0.7540, Train Acc: 30.4668, Test Acc: 0.7390\n",
            "Epoch: 069, Loss: 0.7631, Train Acc: 30.9038, Test Acc: 0.7512\n",
            "Epoch: 070, Loss: 0.7603, Train Acc: 30.4434, Test Acc: 0.7452\n",
            "Epoch: 071, Loss: 0.7576, Train Acc: 30.7721, Test Acc: 0.7451\n",
            "Epoch: 072, Loss: 0.7518, Train Acc: 30.3403, Test Acc: 0.7397\n",
            "Epoch: 073, Loss: 0.7549, Train Acc: 30.4657, Test Acc: 0.7422\n",
            "Epoch: 074, Loss: 0.7527, Train Acc: 30.2565, Test Acc: 0.7463\n",
            "Epoch: 075, Loss: 0.7543, Train Acc: 30.2741, Test Acc: 0.7423\n",
            "Epoch: 076, Loss: 0.7489, Train Acc: 30.2325, Test Acc: 0.7390\n",
            "Epoch: 077, Loss: 0.7483, Train Acc: 30.2852, Test Acc: 0.7430\n",
            "Epoch: 078, Loss: 0.7590, Train Acc: 30.1837, Test Acc: 0.7350\n",
            "Epoch: 079, Loss: 0.7521, Train Acc: 30.3023, Test Acc: 0.7392\n",
            "Epoch: 080, Loss: 0.7515, Train Acc: 30.1874, Test Acc: 0.7345\n",
            "Epoch: 081, Loss: 0.7509, Train Acc: 30.1282, Test Acc: 0.7361\n",
            "Epoch: 082, Loss: 0.7484, Train Acc: 30.1287, Test Acc: 0.7420\n",
            "Epoch: 083, Loss: 0.7441, Train Acc: 30.1372, Test Acc: 0.7359\n",
            "Epoch: 084, Loss: 0.7493, Train Acc: 30.2224, Test Acc: 0.7470\n",
            "Epoch: 085, Loss: 0.7484, Train Acc: 29.8139, Test Acc: 0.7380\n",
            "Epoch: 086, Loss: 0.7473, Train Acc: 30.3131, Test Acc: 0.7408\n",
            "Epoch: 087, Loss: 0.7519, Train Acc: 30.1548, Test Acc: 0.7433\n",
            "Epoch: 088, Loss: 0.7499, Train Acc: 30.2034, Test Acc: 0.7287\n",
            "Epoch: 089, Loss: 0.7487, Train Acc: 30.0113, Test Acc: 0.7339\n",
            "Epoch: 090, Loss: 0.7442, Train Acc: 29.8186, Test Acc: 0.7378\n",
            "Epoch: 091, Loss: 0.7415, Train Acc: 29.9969, Test Acc: 0.7387\n",
            "Epoch: 092, Loss: 0.7491, Train Acc: 30.0819, Test Acc: 0.7408\n",
            "Epoch: 093, Loss: 0.7437, Train Acc: 29.9219, Test Acc: 0.7440\n",
            "Epoch: 094, Loss: 0.7384, Train Acc: 29.6675, Test Acc: 0.7334\n",
            "Epoch: 095, Loss: 0.7450, Train Acc: 30.1253, Test Acc: 0.7490\n",
            "Epoch: 096, Loss: 0.7389, Train Acc: 29.8580, Test Acc: 0.7417\n",
            "Epoch: 097, Loss: 0.7441, Train Acc: 30.0350, Test Acc: 0.7465\n",
            "Epoch: 098, Loss: 0.7377, Train Acc: 29.7250, Test Acc: 0.7396\n",
            "Epoch: 099, Loss: 0.7411, Train Acc: 29.6766, Test Acc: 0.7300\n",
            "Epoch: 100, Loss: 0.7383, Train Acc: 30.0070, Test Acc: 0.7407\n"
          ]
        }
      ],
      "source": [
        "device = torch.device('cuda' if torch.cuda.is_available() else 'cpu')\n",
        "model = Feature_Net(dim=64).to(device)\n",
        "optimizer = torch.optim.Adam(model.parameters(), lr=0.001)\n",
        "\n",
        "for epoch in range(1, 101):\n",
        "    loss = train(epoch)\n",
        "    train_acc = test(train_loader)\n",
        "    test_acc = test(test_loader)\n",
        "    print(f'Epoch: {epoch:03d}, Loss: {loss:.4f}, '\n",
        "          f'Train Acc: {train_acc:.4f}, Test Acc: {test_acc:.4f}')"
      ]
    },
    {
      "cell_type": "code",
      "execution_count": null,
      "metadata": {
        "id": "y8XA56FH02fD"
      },
      "outputs": [],
      "source": [
        "final_mae,final_mse, predict_list, real_list = final(test_loader)"
      ]
    },
    {
      "cell_type": "code",
      "execution_count": null,
      "metadata": {
        "colab": {
          "base_uri": "https://localhost:8080/"
        },
        "id": "pxFbfOvP0_KM",
        "outputId": "fd585749-ea71-4460-949d-8a08c78d0c8c"
      },
      "outputs": [
        {
          "data": {
            "text/plain": [
              "0.7413583993911743"
            ]
          },
          "execution_count": 95,
          "metadata": {},
          "output_type": "execute_result"
        }
      ],
      "source": [
        "final_mae "
      ]
    },
    {
      "cell_type": "code",
      "execution_count": null,
      "metadata": {
        "colab": {
          "base_uri": "https://localhost:8080/"
        },
        "id": "IuejcsD_85SI",
        "outputId": "0bfb691e-a66c-4544-c912-d72061ed8529"
      },
      "outputs": [
        {
          "data": {
            "text/plain": [
              "0.9343597888946533"
            ]
          },
          "execution_count": 96,
          "metadata": {},
          "output_type": "execute_result"
        }
      ],
      "source": [
        "final_mse"
      ]
    },
    {
      "cell_type": "markdown",
      "metadata": {
        "id": "3kl9_cQkx0fV"
      },
      "source": [
        "## GCN"
      ]
    },
    {
      "cell_type": "markdown",
      "metadata": {
        "id": "tc4TlsXzx_2g"
      },
      "source": [
        "### Define the model"
      ]
    },
    {
      "cell_type": "code",
      "execution_count": null,
      "metadata": {
        "id": "hV3Yfphnx_2g"
      },
      "outputs": [],
      "source": [
        "import torch\n",
        "from torch.nn import Linear\n",
        "import torch.nn.functional as F\n",
        "\n",
        "import torch\n",
        "import torch.nn.functional as F\n",
        "from torch_geometric.nn import GCNConv\n",
        "\n",
        "from torch_geometric.nn import GraphConv, global_add_pool\n",
        "\n",
        "class GCN(torch.nn.Module):\n",
        "    def __init__(self, dim):\n",
        "        super().__init__()\n",
        "        num_features = 7 #dataset.num_features\n",
        "        self.conv1 = GCNConv(num_features, dim)\n",
        "        self.conv2 = GCNConv(dim, dim)\n",
        "        self.conv3 = GCNConv(dim, dim)\n",
        "        self.lin1 = Linear(dim, dim)\n",
        "        self.lin2 = Linear(dim, 1)\n",
        "\n",
        "    def forward(self,x,pos,z, edge_index, batch, edge_weight=None):\n",
        "        x = self.conv1(x, edge_index, edge_weight).relu()\n",
        "        x = F.dropout(x, p=0.05, training=self.training)\n",
        "        x = self.conv2(x, edge_index, edge_weight).relu()\n",
        "        x = F.dropout(x, p=0.05, training=self.training)\n",
        "        x = self.conv3(x, edge_index, edge_weight).relu()\n",
        "\n",
        "        x = global_add_pool(x, batch)\n",
        "        x = self.lin1(x)\n",
        "        x = self.lin2(x)\n",
        "\n",
        "        return x\n",
        "\n",
        "class Feature_GCN(torch.nn.Module):\n",
        "    def __init__(self, dim):\n",
        "        super().__init__()\n",
        "        num_features = 11 #dataset.num_features\n",
        "        self.conv1 = GCNConv(num_features, dim)\n",
        "        self.conv2 = GCNConv(dim, dim)\n",
        "        self.conv3 = GCNConv(dim, dim)\n",
        "\n",
        "        self.lin1 = Linear(dim, dim)\n",
        "        self.lin2 = Linear(dim, 1)\n",
        "\n",
        "    def forward(self,x,pos,z, edge_index, batch, edge_weight=None):\n",
        "        x = torch.cat([x,pos,z.view(-1,1)],dim=1).float()\n",
        "        x = self.conv1(x, edge_index, edge_weight).relu()\n",
        "        x = F.dropout(x, p=0.05, training=self.training)\n",
        "        x = self.conv2(x, edge_index, edge_weight).relu()\n",
        "        x = F.dropout(x, p=0.05, training=self.training)\n",
        "        x = self.conv3(x, edge_index, edge_weight).relu()\n",
        "\n",
        "        x = global_add_pool(x, batch)\n",
        "        x = self.lin1(x)\n",
        "        x = self.lin2(x)\n",
        "        return x\n"
      ]
    },
    {
      "cell_type": "code",
      "execution_count": null,
      "metadata": {
        "id": "LVa765CMZnAa"
      },
      "outputs": [],
      "source": [
        "device = torch.device('cuda' if torch.cuda.is_available() else 'cpu')\n",
        "model = GCN(dim=64).to(device)\n",
        "optimizer = torch.optim.Adam(model.parameters(), lr=0.001)\n",
        "\n",
        "for epoch in range(1, 101):\n",
        "    loss = train(epoch)\n",
        "    train_acc = test(train_loader)\n",
        "    test_acc = test(test_loader)\n",
        "    print(f'Epoch: {epoch:03d}, Loss: {loss:.4f}, '\n",
        "          f'Train Acc: {train_acc:.4f}, Test Acc: {test_acc:.4f}')"
      ]
    },
    {
      "cell_type": "code",
      "execution_count": null,
      "metadata": {
        "id": "w6pTXhkC1tF5"
      },
      "outputs": [],
      "source": [
        "final_mae,final_mse, predict_list, real_list = final(test_loader)"
      ]
    },
    {
      "cell_type": "code",
      "execution_count": null,
      "metadata": {
        "colab": {
          "base_uri": "https://localhost:8080/"
        },
        "id": "mAFliVee1tF6",
        "outputId": "49830d28-d7ae-43d4-b8a2-dcf09a8ed750"
      },
      "outputs": [
        {
          "data": {
            "text/plain": [
              "0.702551543712616"
            ]
          },
          "execution_count": 74,
          "metadata": {},
          "output_type": "execute_result"
        }
      ],
      "source": [
        "final_mae"
      ]
    },
    {
      "cell_type": "code",
      "execution_count": null,
      "metadata": {
        "colab": {
          "base_uri": "https://localhost:8080/"
        },
        "id": "EgDS0eWy9PH-",
        "outputId": "1b8ac624-6fab-408d-8ada-e23ac61a482b"
      },
      "outputs": [
        {
          "data": {
            "text/plain": [
              "0.851981520652771"
            ]
          },
          "execution_count": 75,
          "metadata": {},
          "output_type": "execute_result"
        }
      ],
      "source": [
        "final_mse"
      ]
    },
    {
      "cell_type": "code",
      "execution_count": null,
      "metadata": {
        "colab": {
          "base_uri": "https://localhost:8080/"
        },
        "id": "YFSebv2tZ0r9",
        "outputId": "c93cf940-a5ed-4fc1-93b2-9e09aa71323b"
      },
      "outputs": [
        {
          "name": "stdout",
          "output_type": "stream",
          "text": [
            "Epoch: 001, Loss: 1.3053, Train Acc: 32.4516, Test Acc: 0.7836\n",
            "Epoch: 002, Loss: 0.7978, Train Acc: 31.4992, Test Acc: 0.7576\n",
            "Epoch: 003, Loss: 0.8157, Train Acc: 32.2906, Test Acc: 0.7361\n",
            "Epoch: 004, Loss: 0.7978, Train Acc: 33.5876, Test Acc: 0.7545\n",
            "Epoch: 005, Loss: 0.8003, Train Acc: 32.1851, Test Acc: 0.7718\n",
            "Epoch: 006, Loss: 0.7991, Train Acc: 31.6553, Test Acc: 0.7459\n",
            "Epoch: 007, Loss: 0.7829, Train Acc: 31.5013, Test Acc: 0.7503\n",
            "Epoch: 008, Loss: 0.7776, Train Acc: 31.2476, Test Acc: 0.7481\n",
            "Epoch: 009, Loss: 0.7717, Train Acc: 31.2031, Test Acc: 0.7489\n",
            "Epoch: 010, Loss: 0.7687, Train Acc: 31.1437, Test Acc: 0.7474\n",
            "Epoch: 011, Loss: 0.7666, Train Acc: 31.2282, Test Acc: 0.7495\n",
            "Epoch: 012, Loss: 0.7680, Train Acc: 31.1831, Test Acc: 0.7491\n",
            "Epoch: 013, Loss: 0.7667, Train Acc: 31.0977, Test Acc: 0.7487\n",
            "Epoch: 014, Loss: 0.7679, Train Acc: 31.1191, Test Acc: 0.7497\n",
            "Epoch: 015, Loss: 0.7645, Train Acc: 31.0500, Test Acc: 0.7505\n",
            "Epoch: 016, Loss: 0.7651, Train Acc: 31.0348, Test Acc: 0.7531\n",
            "Epoch: 017, Loss: 0.7628, Train Acc: 31.0505, Test Acc: 0.7514\n",
            "Epoch: 018, Loss: 0.7638, Train Acc: 30.8265, Test Acc: 0.7499\n",
            "Epoch: 019, Loss: 0.7622, Train Acc: 30.9821, Test Acc: 0.7512\n",
            "Epoch: 020, Loss: 0.7646, Train Acc: 30.8972, Test Acc: 0.7540\n",
            "Epoch: 021, Loss: 0.7621, Train Acc: 31.0116, Test Acc: 0.7563\n",
            "Epoch: 022, Loss: 0.7630, Train Acc: 30.7832, Test Acc: 0.7509\n",
            "Epoch: 023, Loss: 0.7600, Train Acc: 31.1114, Test Acc: 0.7555\n",
            "Epoch: 024, Loss: 0.7635, Train Acc: 30.9636, Test Acc: 0.7532\n",
            "Epoch: 025, Loss: 0.7602, Train Acc: 30.9072, Test Acc: 0.7565\n",
            "Epoch: 026, Loss: 0.7604, Train Acc: 30.7541, Test Acc: 0.7522\n",
            "Epoch: 027, Loss: 0.7582, Train Acc: 30.7982, Test Acc: 0.7551\n",
            "Epoch: 028, Loss: 0.7585, Train Acc: 30.6656, Test Acc: 0.7553\n",
            "Epoch: 029, Loss: 0.7566, Train Acc: 30.7298, Test Acc: 0.7544\n",
            "Epoch: 030, Loss: 0.7575, Train Acc: 30.6220, Test Acc: 0.7509\n",
            "Epoch: 031, Loss: 0.7555, Train Acc: 30.6837, Test Acc: 0.7480\n",
            "Epoch: 032, Loss: 0.7566, Train Acc: 30.6239, Test Acc: 0.7547\n",
            "Epoch: 033, Loss: 0.7578, Train Acc: 30.5581, Test Acc: 0.7497\n",
            "Epoch: 034, Loss: 0.7547, Train Acc: 30.5114, Test Acc: 0.7525\n",
            "Epoch: 035, Loss: 0.7527, Train Acc: 30.5349, Test Acc: 0.7466\n",
            "Epoch: 036, Loss: 0.7565, Train Acc: 30.5701, Test Acc: 0.7575\n",
            "Epoch: 037, Loss: 0.7522, Train Acc: 30.2864, Test Acc: 0.7484\n",
            "Epoch: 038, Loss: 0.7506, Train Acc: 30.3268, Test Acc: 0.7467\n",
            "Epoch: 039, Loss: 0.7513, Train Acc: 30.3840, Test Acc: 0.7514\n",
            "Epoch: 040, Loss: 0.7489, Train Acc: 30.2807, Test Acc: 0.7506\n",
            "Epoch: 041, Loss: 0.7488, Train Acc: 30.2012, Test Acc: 0.7502\n",
            "Epoch: 042, Loss: 0.7508, Train Acc: 30.3060, Test Acc: 0.7531\n",
            "Epoch: 043, Loss: 0.7490, Train Acc: 30.3084, Test Acc: 0.7442\n",
            "Epoch: 044, Loss: 0.7514, Train Acc: 30.5194, Test Acc: 0.7588\n",
            "Epoch: 045, Loss: 0.7493, Train Acc: 30.1381, Test Acc: 0.7460\n",
            "Epoch: 046, Loss: 0.7523, Train Acc: 30.4712, Test Acc: 0.7577\n",
            "Epoch: 047, Loss: 0.7490, Train Acc: 30.3093, Test Acc: 0.7497\n",
            "Epoch: 048, Loss: 0.7456, Train Acc: 30.2060, Test Acc: 0.7507\n",
            "Epoch: 049, Loss: 0.7451, Train Acc: 30.0494, Test Acc: 0.7520\n",
            "Epoch: 050, Loss: 0.7470, Train Acc: 30.0213, Test Acc: 0.7513\n",
            "Epoch: 051, Loss: 0.7461, Train Acc: 30.1254, Test Acc: 0.7525\n",
            "Epoch: 052, Loss: 0.7454, Train Acc: 30.2257, Test Acc: 0.7524\n",
            "Epoch: 053, Loss: 0.7474, Train Acc: 30.0902, Test Acc: 0.7551\n",
            "Epoch: 054, Loss: 0.7437, Train Acc: 29.8215, Test Acc: 0.7509\n",
            "Epoch: 055, Loss: 0.7434, Train Acc: 30.1433, Test Acc: 0.7641\n",
            "Epoch: 056, Loss: 0.7438, Train Acc: 29.9901, Test Acc: 0.7511\n",
            "Epoch: 057, Loss: 0.7435, Train Acc: 30.1154, Test Acc: 0.7605\n",
            "Epoch: 058, Loss: 0.7461, Train Acc: 30.2285, Test Acc: 0.7475\n",
            "Epoch: 059, Loss: 0.7452, Train Acc: 30.1674, Test Acc: 0.7501\n",
            "Epoch: 060, Loss: 0.7469, Train Acc: 30.1587, Test Acc: 0.7597\n",
            "Epoch: 061, Loss: 0.7454, Train Acc: 29.9348, Test Acc: 0.7503\n",
            "Epoch: 062, Loss: 0.7467, Train Acc: 29.9873, Test Acc: 0.7520\n",
            "Epoch: 063, Loss: 0.7469, Train Acc: 29.8766, Test Acc: 0.7510\n",
            "Epoch: 064, Loss: 0.7437, Train Acc: 29.8334, Test Acc: 0.7560\n",
            "Epoch: 065, Loss: 0.7399, Train Acc: 29.6969, Test Acc: 0.7520\n",
            "Epoch: 066, Loss: 0.7373, Train Acc: 29.6328, Test Acc: 0.7530\n",
            "Epoch: 067, Loss: 0.7410, Train Acc: 29.6442, Test Acc: 0.7490\n",
            "Epoch: 068, Loss: 0.7368, Train Acc: 29.6032, Test Acc: 0.7511\n",
            "Epoch: 069, Loss: 0.7341, Train Acc: 29.5510, Test Acc: 0.7485\n",
            "Epoch: 070, Loss: 0.7375, Train Acc: 29.7481, Test Acc: 0.7527\n",
            "Epoch: 071, Loss: 0.7367, Train Acc: 29.6513, Test Acc: 0.7526\n",
            "Epoch: 072, Loss: 0.7360, Train Acc: 29.6451, Test Acc: 0.7514\n",
            "Epoch: 073, Loss: 0.7277, Train Acc: 29.2433, Test Acc: 0.7482\n",
            "Epoch: 074, Loss: 0.7340, Train Acc: 29.6633, Test Acc: 0.7532\n",
            "Epoch: 075, Loss: 0.7319, Train Acc: 29.4340, Test Acc: 0.7498\n",
            "Epoch: 076, Loss: 0.7324, Train Acc: 29.5137, Test Acc: 0.7491\n",
            "Epoch: 077, Loss: 0.7345, Train Acc: 29.5144, Test Acc: 0.7598\n",
            "Epoch: 078, Loss: 0.7352, Train Acc: 29.4326, Test Acc: 0.7506\n",
            "Epoch: 079, Loss: 0.7281, Train Acc: 29.3899, Test Acc: 0.7573\n",
            "Epoch: 080, Loss: 0.7336, Train Acc: 29.3562, Test Acc: 0.7492\n",
            "Epoch: 081, Loss: 0.7323, Train Acc: 29.2482, Test Acc: 0.7612\n",
            "Epoch: 082, Loss: 0.7315, Train Acc: 29.4639, Test Acc: 0.7486\n",
            "Epoch: 083, Loss: 0.7269, Train Acc: 29.0744, Test Acc: 0.7554\n",
            "Epoch: 084, Loss: 0.7292, Train Acc: 29.1012, Test Acc: 0.7506\n",
            "Epoch: 085, Loss: 0.7285, Train Acc: 29.0687, Test Acc: 0.7588\n",
            "Epoch: 086, Loss: 0.7305, Train Acc: 29.2305, Test Acc: 0.7580\n",
            "Epoch: 087, Loss: 0.7196, Train Acc: 28.9486, Test Acc: 0.7473\n",
            "Epoch: 088, Loss: 0.7157, Train Acc: 28.7928, Test Acc: 0.7538\n",
            "Epoch: 089, Loss: 0.7227, Train Acc: 28.8402, Test Acc: 0.7500\n",
            "Epoch: 090, Loss: 0.7249, Train Acc: 28.9710, Test Acc: 0.7513\n",
            "Epoch: 091, Loss: 0.7198, Train Acc: 28.7160, Test Acc: 0.7585\n",
            "Epoch: 092, Loss: 0.7203, Train Acc: 28.7759, Test Acc: 0.7561\n",
            "Epoch: 093, Loss: 0.7210, Train Acc: 28.4204, Test Acc: 0.7532\n",
            "Epoch: 094, Loss: 0.7183, Train Acc: 28.6138, Test Acc: 0.7556\n",
            "Epoch: 095, Loss: 0.7158, Train Acc: 28.6389, Test Acc: 0.7592\n",
            "Epoch: 096, Loss: 0.7137, Train Acc: 28.4178, Test Acc: 0.7572\n",
            "Epoch: 097, Loss: 0.7226, Train Acc: 28.9769, Test Acc: 0.7595\n",
            "Epoch: 098, Loss: 0.7163, Train Acc: 28.4055, Test Acc: 0.7520\n",
            "Epoch: 099, Loss: 0.7102, Train Acc: 28.2228, Test Acc: 0.7603\n",
            "Epoch: 100, Loss: 0.7128, Train Acc: 28.2680, Test Acc: 0.7494\n"
          ]
        }
      ],
      "source": [
        "device = torch.device('cuda' if torch.cuda.is_available() else 'cpu')\n",
        "model = Feature_GCN(dim=64).to(device)\n",
        "optimizer = torch.optim.Adam(model.parameters(), lr=0.001)\n",
        "\n",
        "for epoch in range(1, 101):\n",
        "    loss = train(epoch)\n",
        "    train_acc = test(train_loader)\n",
        "    test_acc = test(test_loader)\n",
        "    print(f'Epoch: {epoch:03d}, Loss: {loss:.4f}, '\n",
        "          f'Train Acc: {train_acc:.4f}, Test Acc: {test_acc:.4f}')"
      ]
    },
    {
      "cell_type": "code",
      "execution_count": null,
      "metadata": {
        "id": "rSmj2MDC-boq"
      },
      "outputs": [],
      "source": [
        "final_mae,final_mse, predict_list, real_list = final(test_loader)"
      ]
    },
    {
      "cell_type": "code",
      "execution_count": null,
      "metadata": {
        "colab": {
          "base_uri": "https://localhost:8080/"
        },
        "id": "nHAExpLX-boq",
        "outputId": "6cba431a-5bc1-4e74-a369-735828eaf34b"
      },
      "outputs": [
        {
          "data": {
            "text/plain": [
              "0.7494462132453918"
            ]
          },
          "execution_count": 106,
          "metadata": {},
          "output_type": "execute_result"
        }
      ],
      "source": [
        "final_mae"
      ]
    },
    {
      "cell_type": "code",
      "execution_count": null,
      "metadata": {
        "colab": {
          "base_uri": "https://localhost:8080/"
        },
        "id": "lyz9mDQP-bor",
        "outputId": "c4538693-41c5-4722-9165-f9b69110f13d"
      },
      "outputs": [
        {
          "data": {
            "text/plain": [
              "0.9429948925971985"
            ]
          },
          "execution_count": 108,
          "metadata": {},
          "output_type": "execute_result"
        }
      ],
      "source": [
        "final_mse"
      ]
    },
    {
      "cell_type": "markdown",
      "metadata": {
        "id": "WSFRtleI15j9"
      },
      "source": [
        "# sage"
      ]
    },
    {
      "cell_type": "code",
      "execution_count": null,
      "metadata": {
        "id": "RIrsOMX37FNe"
      },
      "outputs": [],
      "source": [
        "import torch\n",
        "from torch.nn import Linear\n",
        "import torch.nn.functional as F\n",
        "\n",
        "import torch\n",
        "import torch.nn.functional as F\n",
        "from torch_geometric.nn import GCNConv, SAGEConv\n",
        "\n",
        "from torch_geometric.nn import GraphConv, global_add_pool\n",
        "\n",
        "# 기본 gnn 모델\n",
        "class SAGE(torch.nn.Module):\n",
        "    def __init__(self, dim):\n",
        "        super(SAGE, self).__init__()\n",
        "\n",
        "        num_features = 7 #dataset.num_features\n",
        "        self.dim = dim\n",
        " \n",
        "        self.conv1 = SAGEConv(num_features, dim)\n",
        "        self.conv2 = SAGEConv(dim, dim)\n",
        "        self.conv3 = SAGEConv(dim, dim)\n",
        "\n",
        "        self.lin1 = Linear(dim, dim)\n",
        "        self.lin2 = Linear(dim, 1)\n",
        "\n",
        "    def forward(self,x,pos,z, edge_index, batch, edge_weight=None):\n",
        "        \n",
        "        x = self.conv1(x, edge_index, edge_weight).relu()\n",
        "        x = F.dropout(x, p=0.05, training=self.training)\n",
        "        x = self.conv2(x, edge_index, edge_weight).relu()\n",
        "        x = F.dropout(x, p=0.05, training=self.training)\n",
        "        x = self.conv3(x, edge_index, edge_weight).relu()\n",
        "\n",
        "        x = global_add_pool(x, batch)\n",
        "        x = self.lin1(x)\n",
        "        x = self.lin2(x)\n",
        "        return x\n",
        "\n",
        "class Feature_SAGE(torch.nn.Module):\n",
        "    def __init__(self, dim):\n",
        "        super(Feature_SAGE, self).__init__()\n",
        "\n",
        "        num_features =11 #dataset.num_features\n",
        "        self.dim = dim\n",
        " \n",
        "        self.conv1 = SAGEConv(num_features, dim)\n",
        "        self.conv2 = SAGEConv(dim, dim)\n",
        "        self.conv3 = SAGEConv(dim, dim)\n",
        "\n",
        "        self.lin1 = Linear(dim, dim)\n",
        "        self.lin2 = Linear(dim, 1)\n",
        "\n",
        "    def forward(self,x,pos,z, edge_index, batch, edge_weight=None):\n",
        "        x = torch.cat([x,pos,z.view(-1,1)],dim=1).to(device, dtype=torch.float32)\n",
        "        x = self.conv1(x, edge_index, edge_weight).relu()\n",
        "        x = F.dropout(x, p=0.05, training=self.training)\n",
        "        x = self.conv2(x, edge_index, edge_weight).relu()\n",
        "        x = F.dropout(x, p=0.05, training=self.training)\n",
        "        x = self.conv3(x, edge_index, edge_weight).relu()\n",
        "\n",
        "        x = global_add_pool(x, batch)\n",
        "        x = self.lin1(x)\n",
        "        x = self.lin2(x)\n",
        "        return x"
      ]
    },
    {
      "cell_type": "code",
      "execution_count": null,
      "metadata": {
        "id": "Wmf-Oxgc7FNe"
      },
      "outputs": [],
      "source": [
        "device = torch.device('cuda' if torch.cuda.is_available() else 'cpu')\n",
        "model = SAGE(dim=32).to(device)\n",
        "optimizer = torch.optim.Adam(model.parameters(), lr=0.001)\n",
        "\n",
        "for epoch in range(1, 101):\n",
        "    loss = train(epoch)\n",
        "    train_acc = test(train_loader)\n",
        "    test_acc = test(test_loader)\n",
        "    print(f'Epoch: {epoch:03d}, Loss: {loss:.4f}, '\n",
        "          f'Train Acc: {train_acc:.4f}, Test Acc: {test_acc:.4f}')"
      ]
    },
    {
      "cell_type": "code",
      "execution_count": null,
      "metadata": {
        "id": "GSh_huR-7FNf"
      },
      "outputs": [],
      "source": [
        "final_mae,final_mse, predict_list, real_list = final(final_loader)"
      ]
    },
    {
      "cell_type": "code",
      "execution_count": null,
      "metadata": {
        "colab": {
          "base_uri": "https://localhost:8080/"
        },
        "id": "s3KyMGc6sLHC",
        "outputId": "51424d9d-606a-40f3-c5e1-5c7a6abd9b11"
      },
      "outputs": [
        {
          "name": "stdout",
          "output_type": "stream",
          "text": [
            "Epoch: 001, Loss: 131.3907, Train Acc: 83.6526, Test Acc: 113.8196\n",
            "Epoch: 002, Loss: 78.7655, Train Acc: 78.7566, Test Acc: 100.7651\n",
            "Epoch: 003, Loss: 75.2702, Train Acc: 77.0857, Test Acc: 101.8770\n",
            "Epoch: 004, Loss: 75.9317, Train Acc: 76.8022, Test Acc: 100.9016\n",
            "Epoch: 005, Loss: 75.5582, Train Acc: 75.2708, Test Acc: 99.2577\n",
            "Epoch: 006, Loss: 76.0433, Train Acc: 76.4832, Test Acc: 98.9521\n",
            "Epoch: 007, Loss: 73.1173, Train Acc: 73.3459, Test Acc: 96.2229\n",
            "Epoch: 008, Loss: 73.7523, Train Acc: 73.9876, Test Acc: 96.3750\n",
            "Epoch: 009, Loss: 71.6176, Train Acc: 73.2905, Test Acc: 95.9189\n",
            "Epoch: 010, Loss: 73.0925, Train Acc: 72.4943, Test Acc: 93.5661\n",
            "Epoch: 011, Loss: 73.5552, Train Acc: 73.4034, Test Acc: 94.7318\n",
            "Epoch: 012, Loss: 71.4746, Train Acc: 75.2635, Test Acc: 97.5915\n",
            "Epoch: 013, Loss: 71.9002, Train Acc: 73.3989, Test Acc: 94.7311\n",
            "Epoch: 014, Loss: 70.0001, Train Acc: 72.1846, Test Acc: 93.1269\n",
            "Epoch: 015, Loss: 69.7131, Train Acc: 73.2598, Test Acc: 95.3085\n",
            "Epoch: 016, Loss: 69.7431, Train Acc: 72.7927, Test Acc: 94.4546\n",
            "Epoch: 017, Loss: 70.6786, Train Acc: 74.7013, Test Acc: 96.7566\n",
            "Epoch: 018, Loss: 69.0537, Train Acc: 72.7090, Test Acc: 94.0163\n",
            "Epoch: 019, Loss: 70.4568, Train Acc: 72.2856, Test Acc: 93.4132\n",
            "Epoch: 020, Loss: 69.3266, Train Acc: 71.6532, Test Acc: 92.8607\n",
            "Epoch: 021, Loss: 68.9274, Train Acc: 71.1533, Test Acc: 92.4705\n",
            "Epoch: 022, Loss: 70.4373, Train Acc: 72.0386, Test Acc: 93.8529\n",
            "Epoch: 023, Loss: 70.4561, Train Acc: 71.5441, Test Acc: 92.7055\n",
            "Epoch: 024, Loss: 69.8671, Train Acc: 71.9122, Test Acc: 93.1200\n",
            "Epoch: 025, Loss: 69.2213, Train Acc: 72.2321, Test Acc: 93.9603\n",
            "Epoch: 026, Loss: 69.5150, Train Acc: 72.3052, Test Acc: 93.6233\n",
            "Epoch: 027, Loss: 67.8442, Train Acc: 71.4998, Test Acc: 93.4860\n",
            "Epoch: 028, Loss: 67.8760, Train Acc: 71.6608, Test Acc: 93.6047\n",
            "Epoch: 029, Loss: 68.8761, Train Acc: 71.2264, Test Acc: 93.3423\n",
            "Epoch: 030, Loss: 70.7116, Train Acc: 72.6290, Test Acc: 93.8992\n",
            "Epoch: 031, Loss: 67.9204, Train Acc: 69.9985, Test Acc: 91.6424\n",
            "Epoch: 032, Loss: 69.0492, Train Acc: 71.2602, Test Acc: 93.1157\n",
            "Epoch: 033, Loss: 67.9946, Train Acc: 69.9080, Test Acc: 91.6170\n",
            "Epoch: 034, Loss: 70.7565, Train Acc: 72.7662, Test Acc: 93.9926\n",
            "Epoch: 035, Loss: 67.4733, Train Acc: 69.3802, Test Acc: 91.2196\n",
            "Epoch: 036, Loss: 70.0570, Train Acc: 72.2369, Test Acc: 93.8501\n",
            "Epoch: 037, Loss: 66.9115, Train Acc: 70.3103, Test Acc: 92.5306\n",
            "Epoch: 038, Loss: 68.9734, Train Acc: 70.5279, Test Acc: 92.1777\n",
            "Epoch: 039, Loss: 66.9383, Train Acc: 70.2910, Test Acc: 93.2168\n",
            "Epoch: 040, Loss: 67.1472, Train Acc: 69.0583, Test Acc: 91.2594\n",
            "Epoch: 041, Loss: 67.2125, Train Acc: 70.0428, Test Acc: 91.6709\n",
            "Epoch: 042, Loss: 66.4534, Train Acc: 69.2059, Test Acc: 92.0006\n",
            "Epoch: 043, Loss: 67.5544, Train Acc: 68.4002, Test Acc: 89.2689\n",
            "Epoch: 044, Loss: 67.3492, Train Acc: 69.4763, Test Acc: 91.1909\n",
            "Epoch: 045, Loss: 67.0960, Train Acc: 68.3437, Test Acc: 90.1559\n",
            "Epoch: 046, Loss: 67.4116, Train Acc: 68.7655, Test Acc: 90.3872\n",
            "Epoch: 047, Loss: 65.9446, Train Acc: 68.2756, Test Acc: 90.3612\n",
            "Epoch: 048, Loss: 67.0173, Train Acc: 67.9787, Test Acc: 89.5081\n",
            "Epoch: 049, Loss: 66.7312, Train Acc: 68.9430, Test Acc: 90.6277\n",
            "Epoch: 050, Loss: 66.6114, Train Acc: 68.4575, Test Acc: 90.3210\n",
            "Epoch: 051, Loss: 67.2028, Train Acc: 68.6661, Test Acc: 90.2570\n",
            "Epoch: 052, Loss: 65.0693, Train Acc: 67.2657, Test Acc: 89.2260\n",
            "Epoch: 053, Loss: 65.5744, Train Acc: 67.2853, Test Acc: 89.0789\n",
            "Epoch: 054, Loss: 65.6576, Train Acc: 67.3838, Test Acc: 88.8587\n",
            "Epoch: 055, Loss: 66.1193, Train Acc: 66.8766, Test Acc: 88.8342\n",
            "Epoch: 056, Loss: 67.0765, Train Acc: 67.5054, Test Acc: 89.4386\n",
            "Epoch: 057, Loss: 65.8895, Train Acc: 68.1129, Test Acc: 91.0162\n",
            "Epoch: 058, Loss: 68.1692, Train Acc: 68.1954, Test Acc: 89.9078\n",
            "Epoch: 059, Loss: 64.8602, Train Acc: 66.9900, Test Acc: 89.3562\n",
            "Epoch: 060, Loss: 65.3061, Train Acc: 67.1508, Test Acc: 89.5944\n",
            "Epoch: 061, Loss: 65.4211, Train Acc: 66.4320, Test Acc: 87.7582\n",
            "Epoch: 062, Loss: 66.9183, Train Acc: 67.6622, Test Acc: 89.2375\n",
            "Epoch: 063, Loss: 66.6815, Train Acc: 68.5361, Test Acc: 91.0559\n",
            "Epoch: 064, Loss: 65.7464, Train Acc: 67.4236, Test Acc: 90.3287\n",
            "Epoch: 065, Loss: 65.6539, Train Acc: 67.1623, Test Acc: 90.0846\n",
            "Epoch: 066, Loss: 64.7515, Train Acc: 66.1143, Test Acc: 88.0444\n",
            "Epoch: 067, Loss: 64.6043, Train Acc: 66.3322, Test Acc: 88.0877\n",
            "Epoch: 068, Loss: 63.9866, Train Acc: 66.5396, Test Acc: 88.8567\n",
            "Epoch: 069, Loss: 64.5961, Train Acc: 65.8678, Test Acc: 87.9554\n",
            "Epoch: 070, Loss: 65.3861, Train Acc: 66.2937, Test Acc: 89.0284\n",
            "Epoch: 071, Loss: 65.4046, Train Acc: 66.0679, Test Acc: 88.3310\n",
            "Epoch: 072, Loss: 66.1701, Train Acc: 66.1521, Test Acc: 88.0645\n",
            "Epoch: 073, Loss: 65.4915, Train Acc: 65.9893, Test Acc: 87.5404\n",
            "Epoch: 074, Loss: 63.6341, Train Acc: 65.8273, Test Acc: 88.1345\n",
            "Epoch: 075, Loss: 63.4931, Train Acc: 65.5292, Test Acc: 87.6688\n",
            "Epoch: 076, Loss: 63.4938, Train Acc: 65.5867, Test Acc: 87.4544\n",
            "Epoch: 077, Loss: 64.4436, Train Acc: 65.4691, Test Acc: 87.7555\n",
            "Epoch: 078, Loss: 66.6321, Train Acc: 66.1707, Test Acc: 88.1389\n",
            "Epoch: 079, Loss: 64.8759, Train Acc: 65.9692, Test Acc: 88.6396\n",
            "Epoch: 080, Loss: 65.3255, Train Acc: 65.8320, Test Acc: 88.6407\n",
            "Epoch: 081, Loss: 64.1179, Train Acc: 65.2496, Test Acc: 87.2432\n",
            "Epoch: 082, Loss: 64.4691, Train Acc: 65.0339, Test Acc: 87.3840\n",
            "Epoch: 083, Loss: 62.7591, Train Acc: 65.1635, Test Acc: 87.7663\n",
            "Epoch: 084, Loss: 63.2355, Train Acc: 65.1255, Test Acc: 88.5461\n",
            "Epoch: 085, Loss: 63.8690, Train Acc: 65.3100, Test Acc: 87.5379\n",
            "Epoch: 086, Loss: 63.9559, Train Acc: 64.7775, Test Acc: 88.2606\n",
            "Epoch: 087, Loss: 65.1277, Train Acc: 64.5790, Test Acc: 87.0232\n",
            "Epoch: 088, Loss: 63.9935, Train Acc: 64.7002, Test Acc: 86.6354\n",
            "Epoch: 089, Loss: 64.2298, Train Acc: 64.6585, Test Acc: 86.8403\n",
            "Epoch: 090, Loss: 63.3960, Train Acc: 64.6282, Test Acc: 88.4196\n",
            "Epoch: 091, Loss: 65.4125, Train Acc: 64.8091, Test Acc: 87.5213\n",
            "Epoch: 092, Loss: 63.9493, Train Acc: 64.3712, Test Acc: 87.6732\n",
            "Epoch: 093, Loss: 64.4242, Train Acc: 64.9084, Test Acc: 87.8936\n",
            "Epoch: 094, Loss: 63.1563, Train Acc: 64.3737, Test Acc: 87.8312\n",
            "Epoch: 095, Loss: 62.3453, Train Acc: 64.7294, Test Acc: 87.1363\n",
            "Epoch: 096, Loss: 62.9276, Train Acc: 64.3061, Test Acc: 87.2781\n",
            "Epoch: 097, Loss: 62.3745, Train Acc: 64.1281, Test Acc: 87.6046\n",
            "Epoch: 098, Loss: 63.6371, Train Acc: 63.9936, Test Acc: 86.9318\n",
            "Epoch: 099, Loss: 62.0159, Train Acc: 64.0875, Test Acc: 87.6252\n",
            "Epoch: 100, Loss: 62.6136, Train Acc: 64.3998, Test Acc: 88.1853\n"
          ]
        }
      ],
      "source": [
        "device = torch.device('cuda' if torch.cuda.is_available() else 'cpu')\n",
        "model = Feature_SAGE(dim=128).to(device)\n",
        "optimizer = torch.optim.Adam(model.parameters(), lr=0.001)\n",
        "\n",
        "for epoch in range(1, 101):\n",
        "    loss = train(epoch)\n",
        "    train_acc = test(train_loader)\n",
        "    test_acc = test(test_loader)\n",
        "    print(f'Epoch: {epoch:03d}, Loss: {loss:.4f}, '\n",
        "          f'Train Acc: {train_acc:.4f}, Test Acc: {test_acc:.4f}')"
      ]
    },
    {
      "cell_type": "code",
      "execution_count": null,
      "metadata": {
        "id": "DxLH_lzxsLHD"
      },
      "outputs": [],
      "source": [
        "final_mae,final_mse, predict_list, real_list = final(final_loader)"
      ]
    },
    {
      "cell_type": "markdown",
      "metadata": {
        "id": "HsEgdPHNYN5q"
      },
      "source": [
        "# GAT"
      ]
    },
    {
      "cell_type": "code",
      "execution_count": null,
      "metadata": {
        "id": "YGpxcRoXYTpD"
      },
      "outputs": [],
      "source": [
        "from torch_geometric.nn import GATConv\n",
        "\n",
        "class GAT(torch.nn.Module):\n",
        "    def __init__(self,dim):\n",
        "        super(GAT,self).__init__()\n",
        "        \n",
        "        num_features = 7 #dataset.num_features\n",
        "\n",
        "        self.conv1 = GATConv(num_features, dim)\n",
        "        self.conv2 = GATConv(dim, dim)\n",
        "        self.conv3 = GATConv(dim, dim)\n",
        " \n",
        "        self.lin1 = Linear(dim, dim)\n",
        "        self.lin2 = Linear(dim, 1)\n",
        "\n",
        "    def forward(self,x,pos,z, edge_index, batch, edge_weight=None):\n",
        "        #x = torch.cat([x,pos,z.view(-1,1)],dim=1).float()\n",
        "        x = self.conv1(x, edge_index, edge_weight).relu()\n",
        "        x = self.conv2(x, edge_index, edge_weight).relu()\n",
        "        x = self.conv3(x, edge_index, edge_weight).relu()\n",
        "        \n",
        "        x = global_add_pool(x, batch)\n",
        "        x = self.lin1(x).relu()\n",
        "        x = F.dropout(x, p=0.1, training=self.training)\n",
        "        x = self.lin2(x)\n",
        "        return x\n",
        "\n",
        "class Feature_GAT(torch.nn.Module):\n",
        "    def __init__(self,dim):\n",
        "        super(Feature_GAT,self).__init__()\n",
        "        \n",
        "        num_features = 11 #dataset.num_features\n",
        "\n",
        "        self.conv1 = GATConv(num_features, dim)\n",
        "        self.conv2 = GATConv(dim, dim)\n",
        "        self.conv3 = GATConv(dim, dim)\n",
        " \n",
        "        self.lin1 = Linear(dim, dim)\n",
        "        self.lin2 = Linear(dim, 1)\n",
        "\n",
        "    def forward(self,x,pos,z, edge_index, batch, edge_weight=None):\n",
        "        x = torch.cat([x,pos,z.view(-1,1)],dim=1).float()\n",
        "        x = self.conv1(x, edge_index, edge_weight).relu()\n",
        "        x = self.conv2(x, edge_index, edge_weight).relu()\n",
        "        x = self.conv3(x, edge_index, edge_weight).relu()\n",
        "        \n",
        "        x = global_add_pool(x, batch)\n",
        "        x = self.lin1(x).relu()\n",
        "        x = F.dropout(x, p=0.1, training=self.training)\n",
        "        x = self.lin2(x)\n",
        "        return x\n",
        "\n"
      ]
    },
    {
      "cell_type": "code",
      "execution_count": null,
      "metadata": {
        "id": "9huTIg9dYTpD"
      },
      "outputs": [],
      "source": [
        "device = torch.device('cuda' if torch.cuda.is_available() else 'cpu')\n",
        "model = GAT(dim=32).to(device)\n",
        "optimizer = torch.optim.Adam(model.parameters(), lr=0.001)\n",
        "\n",
        "for epoch in range(1, 101):\n",
        "    loss = train(epoch)\n",
        "    train_acc = test(train_loader)\n",
        "    test_acc = test(test_loader)\n",
        "    print(f'Epoch: {epoch:03d}, Loss: {loss:.4f}, '\n",
        "          f'Train Acc: {train_acc:.4f}, Test Acc: {test_acc:.4f}')"
      ]
    },
    {
      "cell_type": "code",
      "execution_count": null,
      "metadata": {
        "id": "iwfk3cLjYTpD"
      },
      "outputs": [],
      "source": [
        "final_mae, final_mse, predict_list, real_list = final(final_loader)"
      ]
    },
    {
      "cell_type": "code",
      "execution_count": null,
      "metadata": {
        "colab": {
          "base_uri": "https://localhost:8080/"
        },
        "id": "PpB6cYFStkhn",
        "outputId": "f507c2cf-8be0-40e4-9049-304db52ce489"
      },
      "outputs": [
        {
          "name": "stdout",
          "output_type": "stream",
          "text": [
            "Epoch: 001, Loss: 344.9339, Train Acc: 249.1618, Test Acc: 296.5520\n",
            "Epoch: 002, Loss: 128.3351, Train Acc: 100.9013, Test Acc: 124.4434\n",
            "Epoch: 003, Loss: 93.6071, Train Acc: 86.8188, Test Acc: 116.4559\n",
            "Epoch: 004, Loss: 89.9244, Train Acc: 84.0965, Test Acc: 116.1204\n",
            "Epoch: 005, Loss: 89.5753, Train Acc: 82.9402, Test Acc: 115.7570\n",
            "Epoch: 006, Loss: 87.3989, Train Acc: 83.2990, Test Acc: 116.2126\n",
            "Epoch: 007, Loss: 88.4125, Train Acc: 81.2700, Test Acc: 113.6698\n",
            "Epoch: 008, Loss: 86.6338, Train Acc: 80.3568, Test Acc: 111.8259\n",
            "Epoch: 009, Loss: 84.5513, Train Acc: 80.3851, Test Acc: 110.9921\n",
            "Epoch: 010, Loss: 85.5862, Train Acc: 80.7454, Test Acc: 112.8962\n",
            "Epoch: 011, Loss: 84.1905, Train Acc: 79.8879, Test Acc: 112.5469\n",
            "Epoch: 012, Loss: 82.0355, Train Acc: 79.9545, Test Acc: 112.1364\n",
            "Epoch: 013, Loss: 81.1158, Train Acc: 78.9150, Test Acc: 110.6009\n",
            "Epoch: 014, Loss: 79.9915, Train Acc: 79.6160, Test Acc: 111.2218\n",
            "Epoch: 015, Loss: 80.3213, Train Acc: 79.0598, Test Acc: 109.7210\n",
            "Epoch: 016, Loss: 81.4974, Train Acc: 79.3506, Test Acc: 110.4980\n",
            "Epoch: 017, Loss: 79.6434, Train Acc: 79.6561, Test Acc: 111.2340\n",
            "Epoch: 018, Loss: 79.8239, Train Acc: 78.0590, Test Acc: 108.4813\n",
            "Epoch: 019, Loss: 78.0857, Train Acc: 77.5733, Test Acc: 107.8397\n",
            "Epoch: 020, Loss: 78.1258, Train Acc: 79.7704, Test Acc: 111.1033\n",
            "Epoch: 021, Loss: 78.9319, Train Acc: 78.8597, Test Acc: 110.2205\n",
            "Epoch: 022, Loss: 77.1880, Train Acc: 78.5436, Test Acc: 109.1005\n",
            "Epoch: 023, Loss: 75.4342, Train Acc: 76.6138, Test Acc: 105.1694\n",
            "Epoch: 024, Loss: 77.3057, Train Acc: 79.9443, Test Acc: 110.9343\n",
            "Epoch: 025, Loss: 75.6489, Train Acc: 75.4088, Test Acc: 103.5086\n",
            "Epoch: 026, Loss: 75.8973, Train Acc: 76.3970, Test Acc: 106.4437\n",
            "Epoch: 027, Loss: 74.4229, Train Acc: 76.2435, Test Acc: 104.9338\n",
            "Epoch: 028, Loss: 75.0887, Train Acc: 74.0469, Test Acc: 101.3984\n",
            "Epoch: 029, Loss: 75.5513, Train Acc: 74.9998, Test Acc: 102.9999\n",
            "Epoch: 030, Loss: 74.6101, Train Acc: 71.8853, Test Acc: 97.5140\n",
            "Epoch: 031, Loss: 74.6671, Train Acc: 75.7822, Test Acc: 105.6966\n",
            "Epoch: 032, Loss: 72.9566, Train Acc: 71.4758, Test Acc: 97.0031\n",
            "Epoch: 033, Loss: 73.0550, Train Acc: 71.6403, Test Acc: 97.1492\n",
            "Epoch: 034, Loss: 71.9237, Train Acc: 70.9587, Test Acc: 95.9574\n",
            "Epoch: 035, Loss: 72.6448, Train Acc: 71.2211, Test Acc: 97.2627\n",
            "Epoch: 036, Loss: 72.4084, Train Acc: 71.0547, Test Acc: 96.6261\n",
            "Epoch: 037, Loss: 71.6974, Train Acc: 69.4617, Test Acc: 93.0291\n",
            "Epoch: 038, Loss: 71.5496, Train Acc: 68.5915, Test Acc: 91.8979\n",
            "Epoch: 039, Loss: 70.9713, Train Acc: 68.4739, Test Acc: 89.4162\n",
            "Epoch: 040, Loss: 71.4253, Train Acc: 68.8611, Test Acc: 92.4351\n",
            "Epoch: 041, Loss: 71.2603, Train Acc: 67.9794, Test Acc: 91.2081\n",
            "Epoch: 042, Loss: 70.8434, Train Acc: 68.1554, Test Acc: 92.1564\n",
            "Epoch: 043, Loss: 70.4543, Train Acc: 67.6231, Test Acc: 89.9628\n",
            "Epoch: 044, Loss: 69.7573, Train Acc: 67.5865, Test Acc: 89.0041\n",
            "Epoch: 045, Loss: 70.0219, Train Acc: 67.1380, Test Acc: 87.9191\n",
            "Epoch: 046, Loss: 70.8180, Train Acc: 67.3178, Test Acc: 88.9073\n",
            "Epoch: 047, Loss: 71.0716, Train Acc: 67.7181, Test Acc: 89.5020\n",
            "Epoch: 048, Loss: 69.0451, Train Acc: 66.8923, Test Acc: 86.2159\n",
            "Epoch: 049, Loss: 70.4080, Train Acc: 66.9689, Test Acc: 89.7406\n",
            "Epoch: 050, Loss: 69.2574, Train Acc: 66.6087, Test Acc: 87.4018\n",
            "Epoch: 051, Loss: 68.9810, Train Acc: 66.4469, Test Acc: 87.7521\n",
            "Epoch: 052, Loss: 69.9500, Train Acc: 66.5241, Test Acc: 89.0700\n",
            "Epoch: 053, Loss: 69.5263, Train Acc: 66.1102, Test Acc: 87.5445\n",
            "Epoch: 054, Loss: 67.5097, Train Acc: 66.1675, Test Acc: 87.4195\n",
            "Epoch: 055, Loss: 68.1213, Train Acc: 66.1673, Test Acc: 89.3045\n",
            "Epoch: 056, Loss: 69.7234, Train Acc: 65.9163, Test Acc: 86.1601\n",
            "Epoch: 057, Loss: 70.9027, Train Acc: 66.4417, Test Acc: 86.3011\n",
            "Epoch: 058, Loss: 69.9118, Train Acc: 65.8619, Test Acc: 85.7217\n",
            "Epoch: 059, Loss: 69.3464, Train Acc: 67.7308, Test Acc: 92.5591\n",
            "Epoch: 060, Loss: 68.2325, Train Acc: 65.8162, Test Acc: 88.5563\n",
            "Epoch: 061, Loss: 68.8127, Train Acc: 65.7414, Test Acc: 85.8033\n",
            "Epoch: 062, Loss: 70.0706, Train Acc: 65.8448, Test Acc: 88.2762\n",
            "Epoch: 063, Loss: 67.8622, Train Acc: 65.3133, Test Acc: 86.6387\n",
            "Epoch: 064, Loss: 68.4116, Train Acc: 65.3155, Test Acc: 86.1099\n",
            "Epoch: 065, Loss: 68.4360, Train Acc: 65.3636, Test Acc: 87.8449\n",
            "Epoch: 066, Loss: 69.3077, Train Acc: 66.1219, Test Acc: 88.9199\n",
            "Epoch: 067, Loss: 68.7502, Train Acc: 65.0514, Test Acc: 86.3766\n",
            "Epoch: 068, Loss: 67.7681, Train Acc: 65.0913, Test Acc: 85.9721\n",
            "Epoch: 069, Loss: 69.5682, Train Acc: 64.9771, Test Acc: 85.8574\n",
            "Epoch: 070, Loss: 67.4322, Train Acc: 65.1740, Test Acc: 86.7958\n",
            "Epoch: 071, Loss: 69.2951, Train Acc: 65.0108, Test Acc: 85.9138\n",
            "Epoch: 072, Loss: 67.6430, Train Acc: 65.7638, Test Acc: 88.0738\n",
            "Epoch: 073, Loss: 67.9511, Train Acc: 65.8017, Test Acc: 85.2402\n",
            "Epoch: 074, Loss: 69.6321, Train Acc: 65.3453, Test Acc: 86.1099\n",
            "Epoch: 075, Loss: 69.2678, Train Acc: 64.6470, Test Acc: 84.7769\n",
            "Epoch: 076, Loss: 67.9369, Train Acc: 64.6639, Test Acc: 86.7833\n",
            "Epoch: 077, Loss: 66.6853, Train Acc: 64.7702, Test Acc: 87.4822\n",
            "Epoch: 078, Loss: 68.9626, Train Acc: 65.5613, Test Acc: 86.1379\n",
            "Epoch: 079, Loss: 68.6975, Train Acc: 64.6453, Test Acc: 86.3930\n",
            "Epoch: 080, Loss: 68.5000, Train Acc: 64.8690, Test Acc: 85.2850\n",
            "Epoch: 081, Loss: 68.0280, Train Acc: 64.4777, Test Acc: 85.1525\n",
            "Epoch: 082, Loss: 69.4358, Train Acc: 64.4587, Test Acc: 84.8824\n",
            "Epoch: 083, Loss: 67.1429, Train Acc: 64.4477, Test Acc: 85.5899\n",
            "Epoch: 084, Loss: 68.8144, Train Acc: 64.5827, Test Acc: 85.3017\n",
            "Epoch: 085, Loss: 67.6175, Train Acc: 64.4807, Test Acc: 85.4545\n",
            "Epoch: 086, Loss: 68.0690, Train Acc: 64.2642, Test Acc: 86.3545\n",
            "Epoch: 087, Loss: 67.4227, Train Acc: 64.6654, Test Acc: 87.7282\n",
            "Epoch: 088, Loss: 67.3413, Train Acc: 64.4362, Test Acc: 85.2783\n",
            "Epoch: 089, Loss: 69.3696, Train Acc: 64.4270, Test Acc: 85.8143\n",
            "Epoch: 090, Loss: 67.3203, Train Acc: 66.0115, Test Acc: 86.7595\n",
            "Epoch: 091, Loss: 68.8460, Train Acc: 63.9528, Test Acc: 85.3810\n",
            "Epoch: 092, Loss: 67.6852, Train Acc: 63.9274, Test Acc: 85.4498\n",
            "Epoch: 093, Loss: 68.8860, Train Acc: 63.7877, Test Acc: 85.5267\n",
            "Epoch: 094, Loss: 67.1879, Train Acc: 63.7418, Test Acc: 86.2141\n",
            "Epoch: 095, Loss: 67.6219, Train Acc: 63.8680, Test Acc: 86.2858\n",
            "Epoch: 096, Loss: 68.0857, Train Acc: 63.6896, Test Acc: 85.3400\n",
            "Epoch: 097, Loss: 67.1971, Train Acc: 64.0874, Test Acc: 86.9862\n",
            "Epoch: 098, Loss: 66.9630, Train Acc: 64.0234, Test Acc: 84.5569\n",
            "Epoch: 099, Loss: 66.6227, Train Acc: 63.6025, Test Acc: 86.4868\n",
            "Epoch: 100, Loss: 68.4310, Train Acc: 63.8338, Test Acc: 84.9926\n"
          ]
        }
      ],
      "source": [
        "device = torch.device('cuda' if torch.cuda.is_available() else 'cpu')\n",
        "model = Feature_GAT(dim=32).to(device)\n",
        "optimizer = torch.optim.Adam(model.parameters(), lr=0.001)\n",
        "\n",
        "for epoch in range(1, 101):\n",
        "    loss = train(epoch)\n",
        "    train_acc = test(train_loader)\n",
        "    test_acc = test(test_loader)\n",
        "    print(f'Epoch: {epoch:03d}, Loss: {loss:.4f}, '\n",
        "          f'Train Acc: {train_acc:.4f}, Test Acc: {test_acc:.4f}')"
      ]
    },
    {
      "cell_type": "code",
      "execution_count": null,
      "metadata": {
        "id": "3hUrA63Vtkho"
      },
      "outputs": [],
      "source": [
        "final_mae, final_mse, predict_list, real_list = final(final_loader)"
      ]
    },
    {
      "cell_type": "markdown",
      "metadata": {
        "id": "gQArgikVB10p"
      },
      "source": [
        "# DimeNet"
      ]
    },
    {
      "cell_type": "code",
      "execution_count": null,
      "metadata": {
        "id": "aS02DxJXcr5h"
      },
      "outputs": [],
      "source": [
        "import torch\n",
        "from torch.nn import Linear\n",
        "import torch.nn.functional as F\n",
        "\n",
        "from torch_geometric.nn import GraphConv, global_max_pool\n",
        "\n",
        "from sklearn.metrics import mean_absolute_error\n",
        "\n",
        "def train(epoch):\n",
        "    model.train()\n",
        "\n",
        "    if epoch == 51:\n",
        "        for param_group in optimizer.param_groups:\n",
        "            param_group['lr'] = 0.5 * param_group['lr']\n",
        "\n",
        "    loss_all = 0\n",
        "    for data in train_loader:\n",
        "        data = data.to(device)\n",
        "        optimizer.zero_grad()\n",
        "        output = model(data.z,data.pos.float(),data.batch)\n",
        "        loss = F.l1_loss(output.flatten().to(device), \n",
        "                         data.y.type(torch.LongTensor).to(device))\n",
        "        loss.backward()\n",
        "        loss_all += loss.item() * data.num_graphs\n",
        "        optimizer.step()\n",
        "    return loss_all / len(train_dataset)\n",
        "\n",
        "def to_np(x):\n",
        "    return x.cpu().detach().numpy()\n",
        "\n",
        "\n",
        "def test(loader):\n",
        "    model.eval()\n",
        "    total_mae = 0\n",
        "    for i, data in enumerate(loader):\n",
        "        data = data.to(device)\n",
        "        output = model(data.z, data.pos.float(), data.batch)\n",
        "        mae = mean_absolute_error(to_np(output.flatten()), to_np(data.y.type(torch.LongTensor)))\n",
        "        total_mae += mae\n",
        "    return total_mae / i+1\n",
        "\n",
        "def final(model,loader):\n",
        "    model.eval()\n",
        "    predict_list = []\n",
        "    real_list = []\n",
        "    total_mae = 0\n",
        "    total_mse = 0\n",
        "    for data in loader:\n",
        "        data = data.to(device)\n",
        "        with torch.no_grad():\n",
        "          output = model(data.z, data.pos.float(), data.batch)\n",
        "        mae = mean_absolute_error(to_np(output.flatten()), to_np(data.y.type(torch.LongTensor)))\n",
        "        mse = mean_squared_error(to_np(output.flatten()), to_np(data.y.type(torch.LongTensor)))\n",
        "        predict_list.append(to_np(output.flatten()))\n",
        "        real_list.append(to_np(data.y.type(torch.LongTensor)))\n",
        "        total_mae += mae\n",
        "        total_mse += mse\n",
        "    return total_mae,total_mse, predict_list, real_list"
      ]
    },
    {
      "cell_type": "code",
      "execution_count": null,
      "metadata": {
        "id": "v-l9zsQc15MP"
      },
      "outputs": [],
      "source": [
        "# DimeNet\n",
        "from torch_geometric.nn import DimeNet, DimeNetPlusPlus\n",
        "\n",
        "device = torch.device('cuda' if torch.cuda.is_available() else 'cpu')\n",
        "model = DimeNet(hidden_channels=128,\n",
        "                out_channels=1,\n",
        "                num_blocks=6,\n",
        "                num_bilinear=8,\n",
        "                num_spherical=7,\n",
        "                num_radial=6,\n",
        "                max_num_neighbors=4\n",
        "                ).to(device)\n",
        "optimizer = torch.optim.Adam(model.parameters(), lr=0.001)"
      ]
    },
    {
      "cell_type": "code",
      "execution_count": null,
      "metadata": {
        "colab": {
          "base_uri": "https://localhost:8080/"
        },
        "id": "vCi-lyS_2gWh",
        "outputId": "00a5abef-770c-40f1-eec7-ca6abfb01c85"
      },
      "outputs": [
        {
          "name": "stdout",
          "output_type": "stream",
          "text": [
            "Epoch: 001, Loss: 620.3647, Train Acc: 86.5792, Test Acc: 117.7467\n",
            "Epoch: 002, Loss: 80.8010, Train Acc: 77.9716, Test Acc: 104.0592\n",
            "Epoch: 003, Loss: 75.2450, Train Acc: 73.2483, Test Acc: 95.7713\n",
            "Epoch: 004, Loss: 72.0943, Train Acc: 72.1806, Test Acc: 93.7649\n",
            "Epoch: 005, Loss: 71.0568, Train Acc: 71.6722, Test Acc: 92.3990\n",
            "Epoch: 006, Loss: 70.5231, Train Acc: 70.9729, Test Acc: 91.1117\n",
            "Epoch: 007, Loss: 69.4592, Train Acc: 72.9684, Test Acc: 92.8657\n",
            "Epoch: 008, Loss: 70.1427, Train Acc: 69.9489, Test Acc: 89.7148\n",
            "Epoch: 009, Loss: 67.7105, Train Acc: 70.7448, Test Acc: 90.2182\n",
            "Epoch: 010, Loss: 67.7619, Train Acc: 68.9585, Test Acc: 88.1220\n",
            "Epoch: 011, Loss: 67.3938, Train Acc: 67.6224, Test Acc: 86.7072\n",
            "Epoch: 012, Loss: 66.5471, Train Acc: 66.7605, Test Acc: 85.7842\n",
            "Epoch: 013, Loss: 65.0921, Train Acc: 67.0427, Test Acc: 86.2518\n",
            "Epoch: 014, Loss: 64.7361, Train Acc: 66.3341, Test Acc: 86.0447\n",
            "Epoch: 015, Loss: 63.6948, Train Acc: 66.2245, Test Acc: 86.6989\n",
            "Epoch: 016, Loss: 64.3308, Train Acc: 68.1200, Test Acc: 89.4637\n",
            "Epoch: 017, Loss: 65.9536, Train Acc: 64.9119, Test Acc: 86.0015\n",
            "Epoch: 018, Loss: 63.3067, Train Acc: 65.5871, Test Acc: 86.5313\n",
            "Epoch: 019, Loss: 64.3742, Train Acc: 64.9852, Test Acc: 86.2149\n",
            "Epoch: 020, Loss: 63.0397, Train Acc: 64.6137, Test Acc: 85.9165\n",
            "Epoch: 021, Loss: 63.6022, Train Acc: 65.1425, Test Acc: 86.2877\n",
            "Epoch: 022, Loss: 63.9424, Train Acc: 63.4857, Test Acc: 85.4803\n",
            "Epoch: 023, Loss: 61.7740, Train Acc: 63.1398, Test Acc: 85.6545\n",
            "Epoch: 024, Loss: 61.7326, Train Acc: 61.8401, Test Acc: 85.5622\n",
            "Epoch: 025, Loss: 60.9548, Train Acc: 62.2129, Test Acc: 85.9749\n",
            "Epoch: 026, Loss: 59.1117, Train Acc: 59.8047, Test Acc: 86.7824\n",
            "Epoch: 027, Loss: 58.5696, Train Acc: 63.0194, Test Acc: 88.8322\n",
            "Epoch: 028, Loss: 63.1636, Train Acc: 59.5739, Test Acc: 85.1840\n",
            "Epoch: 029, Loss: 57.8468, Train Acc: 59.8651, Test Acc: 86.7858\n",
            "Epoch: 030, Loss: 57.1516, Train Acc: 56.7160, Test Acc: 85.0889\n",
            "Epoch: 031, Loss: 56.0022, Train Acc: 59.0160, Test Acc: 84.8519\n",
            "Epoch: 032, Loss: 57.8170, Train Acc: 57.5436, Test Acc: 86.3625\n",
            "Epoch: 033, Loss: 57.1355, Train Acc: 57.2871, Test Acc: 86.3928\n",
            "Epoch: 034, Loss: 56.6199, Train Acc: 54.2430, Test Acc: 86.6258\n",
            "Epoch: 035, Loss: 56.3913, Train Acc: 56.1254, Test Acc: 86.5404\n",
            "Epoch: 036, Loss: 53.5858, Train Acc: 52.4210, Test Acc: 89.1917\n",
            "Epoch: 037, Loss: 51.4056, Train Acc: 50.7198, Test Acc: 90.1338\n",
            "Epoch: 038, Loss: 53.7956, Train Acc: 53.3823, Test Acc: 86.4076\n",
            "Epoch: 039, Loss: 52.0211, Train Acc: 52.5733, Test Acc: 91.2798\n",
            "Epoch: 040, Loss: 53.3690, Train Acc: 51.3106, Test Acc: 89.7565\n",
            "Epoch: 041, Loss: 52.2016, Train Acc: 52.4015, Test Acc: 86.6797\n",
            "Epoch: 042, Loss: 52.5731, Train Acc: 53.7712, Test Acc: 90.9113\n",
            "Epoch: 043, Loss: 50.9179, Train Acc: 49.9835, Test Acc: 92.6391\n",
            "Epoch: 044, Loss: 49.7044, Train Acc: 48.6986, Test Acc: 95.4935\n",
            "Epoch: 045, Loss: 48.9074, Train Acc: 48.3327, Test Acc: 95.6734\n",
            "Epoch: 046, Loss: 49.1291, Train Acc: 46.7679, Test Acc: 93.1300\n",
            "Epoch: 047, Loss: 46.5156, Train Acc: 46.8603, Test Acc: 89.8790\n",
            "Epoch: 048, Loss: 52.8419, Train Acc: 49.7230, Test Acc: 94.2582\n",
            "Epoch: 049, Loss: 51.7783, Train Acc: 45.9444, Test Acc: 90.7769\n",
            "Epoch: 050, Loss: 47.8776, Train Acc: 49.2588, Test Acc: 94.7441\n",
            "Epoch: 051, Loss: 47.1175, Train Acc: 44.2780, Test Acc: 93.0213\n",
            "Epoch: 052, Loss: 41.2919, Train Acc: 39.5102, Test Acc: 92.5497\n",
            "Epoch: 053, Loss: 38.4400, Train Acc: 39.8072, Test Acc: 94.5933\n",
            "Epoch: 054, Loss: 37.6725, Train Acc: 39.0145, Test Acc: 93.0789\n",
            "Epoch: 055, Loss: 38.8060, Train Acc: 41.9086, Test Acc: 95.7742\n",
            "Epoch: 056, Loss: 38.8282, Train Acc: 36.8697, Test Acc: 93.5574\n",
            "Epoch: 057, Loss: 38.8128, Train Acc: 38.3458, Test Acc: 93.8157\n",
            "Epoch: 058, Loss: 37.7875, Train Acc: 40.0293, Test Acc: 95.3840\n",
            "Epoch: 059, Loss: 39.0895, Train Acc: 37.8219, Test Acc: 96.6170\n",
            "Epoch: 060, Loss: 37.4158, Train Acc: 36.2259, Test Acc: 96.5908\n",
            "Epoch: 061, Loss: 35.5614, Train Acc: 34.5269, Test Acc: 97.1173\n",
            "Epoch: 062, Loss: 33.6604, Train Acc: 34.4135, Test Acc: 97.6457\n",
            "Epoch: 063, Loss: 34.3522, Train Acc: 37.2126, Test Acc: 97.0835\n",
            "Epoch: 064, Loss: 36.7771, Train Acc: 35.4086, Test Acc: 96.5089\n",
            "Epoch: 065, Loss: 36.3607, Train Acc: 39.5203, Test Acc: 103.3895\n",
            "Epoch: 066, Loss: 35.0590, Train Acc: 46.7123, Test Acc: 105.4379\n",
            "Epoch: 067, Loss: 38.7389, Train Acc: 47.7052, Test Acc: 106.1527\n",
            "Epoch: 068, Loss: 38.1145, Train Acc: 49.1985, Test Acc: 104.1120\n",
            "Epoch: 069, Loss: 45.6312, Train Acc: 42.5057, Test Acc: 104.1467\n",
            "Epoch: 070, Loss: 44.7306, Train Acc: 41.0811, Test Acc: 103.3137\n",
            "Epoch: 071, Loss: 39.4409, Train Acc: 34.5431, Test Acc: 94.2558\n",
            "Epoch: 072, Loss: 33.7011, Train Acc: 37.2389, Test Acc: 100.6582\n",
            "Epoch: 073, Loss: 32.4670, Train Acc: 47.5910, Test Acc: 108.8026\n",
            "Epoch: 074, Loss: 38.9296, Train Acc: 40.0782, Test Acc: 98.3395\n",
            "Epoch: 075, Loss: 41.8630, Train Acc: 41.7952, Test Acc: 102.1747\n",
            "Epoch: 076, Loss: 37.2174, Train Acc: 32.5852, Test Acc: 96.1657\n",
            "Epoch: 077, Loss: 30.4036, Train Acc: 34.2183, Test Acc: 98.7003\n",
            "Epoch: 078, Loss: 30.3102, Train Acc: 33.7626, Test Acc: 98.8055\n",
            "Epoch: 079, Loss: 30.3287, Train Acc: 35.1628, Test Acc: 100.9062\n",
            "Epoch: 080, Loss: 31.2947, Train Acc: 31.1502, Test Acc: 100.0335\n",
            "Epoch: 081, Loss: 29.9792, Train Acc: 29.1104, Test Acc: 99.0076\n",
            "Epoch: 082, Loss: 29.7318, Train Acc: 29.1177, Test Acc: 100.2876\n",
            "Epoch: 083, Loss: 28.7919, Train Acc: 32.3259, Test Acc: 105.1222\n",
            "Epoch: 084, Loss: 30.8336, Train Acc: 35.3766, Test Acc: 102.0890\n",
            "Epoch: 085, Loss: 31.6707, Train Acc: 33.7756, Test Acc: 96.1656\n",
            "Epoch: 086, Loss: 35.0557, Train Acc: 39.6274, Test Acc: 101.0129\n",
            "Epoch: 087, Loss: 39.5931, Train Acc: 38.8916, Test Acc: 97.6547\n",
            "Epoch: 088, Loss: 39.0367, Train Acc: 36.7925, Test Acc: 103.1092\n",
            "Epoch: 089, Loss: 31.0000, Train Acc: 32.8525, Test Acc: 103.9283\n",
            "Epoch: 090, Loss: 28.8016, Train Acc: 31.7322, Test Acc: 96.1935\n",
            "Epoch: 091, Loss: 29.2320, Train Acc: 34.2430, Test Acc: 99.3017\n",
            "Epoch: 092, Loss: 32.7390, Train Acc: 37.0134, Test Acc: 99.6416\n",
            "Epoch: 093, Loss: 36.8502, Train Acc: 40.9966, Test Acc: 106.0787\n",
            "Epoch: 094, Loss: 34.0131, Train Acc: 42.7845, Test Acc: 110.6236\n",
            "Epoch: 095, Loss: 31.7399, Train Acc: 32.8655, Test Acc: 96.2493\n",
            "Epoch: 096, Loss: 29.3780, Train Acc: 33.7248, Test Acc: 98.1001\n",
            "Epoch: 097, Loss: 30.8835, Train Acc: 33.0963, Test Acc: 99.8232\n",
            "Epoch: 098, Loss: 32.7225, Train Acc: 37.6801, Test Acc: 104.0526\n",
            "Epoch: 099, Loss: 33.4510, Train Acc: 50.1088, Test Acc: 121.5645\n",
            "Epoch: 100, Loss: 32.1133, Train Acc: 44.6211, Test Acc: 109.4159\n"
          ]
        }
      ],
      "source": [
        "for epoch in range(1, 101):\n",
        "    loss = train(epoch)\n",
        "    train_acc = test(train_loader)\n",
        "    test_acc = test(test_loader)\n",
        "    print(f'Epoch: {epoch:03d}, Loss: {loss:.4f}, '\n",
        "          f'Train Acc: {train_acc:.4f}, Test Acc: {test_acc:.4f}')"
      ]
    },
    {
      "cell_type": "code",
      "execution_count": null,
      "metadata": {
        "id": "-_OUBG0PyjJj"
      },
      "outputs": [],
      "source": [
        "final_mae,final_mse, predict_list, real_list = final(model,final_loader)"
      ]
    },
    {
      "attachments": {},
      "cell_type": "markdown",
      "metadata": {
        "id": "PzX9xwFxCTff"
      },
      "source": [
        "# Explaining the predictions"
      ]
    },
    {
      "cell_type": "code",
      "execution_count": null,
      "metadata": {
        "id": "Wz6B1NgorzAX"
      },
      "outputs": [],
      "source": [
        "from captum.attr import Saliency, IntegratedGradients\n",
        "\n",
        "def model_forward(edge_mask, data):\n",
        "    batch = torch.zeros(data.x.shape[0], dtype=int).to(device)\n",
        "    out = model(data.x,data.pos,data.z, data.edge_index, batch, edge_mask)\n",
        "    return out\n",
        "\n",
        "\n",
        "def explain(method, data, target=data.y):\n",
        "    input_mask = torch.ones(data.edge_index.shape[1]).requires_grad_(True).to(device)\n",
        "    if method == 'ig':\n",
        "        ig = IntegratedGradients(model_forward)\n",
        "        mask = ig.attribute(input_mask, target=target,\n",
        "                            additional_forward_args=(data,),internal_batch_size=data.edge_index.shape[1])\n",
        "    elif method == 'saliency':\n",
        "        saliency = Saliency(model_forward)\n",
        "        mask = saliency.attribute(input_mask, target=target,\n",
        "                                  additional_forward_args=(data,))\n",
        "    else:\n",
        "        raise Exception('Unknown explanation method')\n",
        "\n",
        "    edge_mask = np.abs(mask.cpu().detach().numpy())\n",
        "    if edge_mask.max() > 0:  # avoid division by zero\n",
        "        edge_mask = edge_mask / edge_mask.max()\n",
        "    return edge_mask"
      ]
    },
    {
      "cell_type": "code",
      "execution_count": null,
      "metadata": {
        "colab": {
          "base_uri": "https://localhost:8080/",
          "height": 391
        },
        "id": "4CE8HKz57u4q",
        "outputId": "4c2b72c0-e32a-460c-b3e6-6c97143e7a3c"
      },
      "outputs": [
        {
          "data": {
            "image/png": "[encoded data removed]",
            "text/plain": [
              "<Figure size 720x360 with 1 Axes>"
            ]
          },
          "metadata": {},
          "output_type": "display_data"
        }
      ],
      "source": [
        "import random\n",
        "import matplotlib.pyplot as plt\n",
        "\n",
        "# 0 4 7\n",
        "data = test_dataset[7] #random.choice([t for t in train_dataset])\n",
        "mol = to_molecule(data)\n",
        "plt.figure(figsize=(10, 5))\n",
        "draw_molecule(mol,title='mol7')"
      ]
    },
    {
      "cell_type": "code",
      "execution_count": null,
      "metadata": {
        "colab": {
          "base_uri": "https://localhost:8080/",
          "height": 391
        },
        "id": "Z1mJVbKorh5y",
        "outputId": "a1917db8-6304-4a24-d3d1-5104fb683db7"
      },
      "outputs": [
        {
          "data": {
            "image/png": "[encoded data removed]",
            "text/plain": [
              "<Figure size 720x360 with 1 Axes>"
            ]
          },
          "metadata": {},
          "output_type": "display_data"
        }
      ],
      "source": [
        "import random\n",
        "from collections import defaultdict\n",
        "\n",
        "def aggregate_edge_directions(edge_mask, data):\n",
        "    edge_mask_dict = defaultdict(float)\n",
        "    for val, u, v in list(zip(edge_mask, *data.edge_index)):\n",
        "        u, v = u.item(), v.item()\n",
        "        if u > v:\n",
        "            u, v = v, u\n",
        "        edge_mask_dict[(u, v)] += val\n",
        "    return edge_mask_dict\n",
        "    \n",
        "# 0 4 7\n",
        "data = test_dataset[7] # random.choice([t for t in test_dataset])\n",
        "mol = to_molecule(data)\n",
        "\n",
        "for title, method in [('Integrated Gradients', 'ig')]:\n",
        "    edge_mask = explain(method, data, target=0)\n",
        "    edge_mask_dict = aggregate_edge_directions(edge_mask, data)\n",
        "    plt.figure(figsize=(10, 5))\n",
        "    #plt.title(title)\n",
        "    draw_molecule(mol, edge_mask_dict, title='GCN7')"
      ]
    },
    {
      "cell_type": "code",
      "execution_count": null,
      "metadata": {
        "id": "FODfz2HBWp_Z"
      },
      "outputs": [],
      "source": []
    }
  ],
  "metadata": {
    "colab": {
      "collapsed_sections": [
        "mJtgD2A1uJAa",
        "g35SSQ3oukNM",
        "cJ3JuTH1vV1V",
        "vKiOYBL-xwcN",
        "3kl9_cQkx0fV",
        "WSFRtleI15j9",
        "gQArgikVB10p",
        "b8anH1OT4dQV",
        "56TSsl8G4dQW",
        "KzRo_evP4dQW",
        "wwJvUNTqZJCC"
      ],
      "machine_shape": "hm",
      "provenance": []
    },
    "gpuClass": "premium",
    "kernelspec": {
      "display_name": "Python 3",
      "name": "python3"
    }
  },
  "nbformat": 4,
  "nbformat_minor": 0
}
